{
 "cells": [
  {
   "cell_type": "code",
   "execution_count": 3,
   "id": "3ef2f1b2-4d5f-4dfb-adcc-e9fefa318150",
   "metadata": {
    "tags": []
   },
   "outputs": [],
   "source": [
    "import pandas as pd\n",
    "import string\n",
    "\n",
    "from nltk.corpus import wordnet\n",
    "from nltk import pos_tag\n",
    "from nltk.corpus import stopwords\n",
    "from nltk.tokenize import WhitespaceTokenizer\n",
    "from nltk.stem import WordNetLemmatizer\n",
    "\n",
    "import numpy as np # linear algebra\n",
    "\n",
    "import os"
   ]
  },
  {
   "cell_type": "code",
   "execution_count": 4,
   "id": "b68d88cb-2a5a-4a27-a64d-0df6bf3f962c",
   "metadata": {
    "tags": []
   },
   "outputs": [
    {
     "data": {
      "text/html": [
       "<div>\n",
       "<style scoped>\n",
       "    .dataframe tbody tr th:only-of-type {\n",
       "        vertical-align: middle;\n",
       "    }\n",
       "\n",
       "    .dataframe tbody tr th {\n",
       "        vertical-align: top;\n",
       "    }\n",
       "\n",
       "    .dataframe thead th {\n",
       "        text-align: right;\n",
       "    }\n",
       "</style>\n",
       "<table border=\"1\" class=\"dataframe\">\n",
       "  <thead>\n",
       "    <tr style=\"text-align: right;\">\n",
       "      <th></th>\n",
       "      <th>Hotel_Address</th>\n",
       "      <th>Additional_Number_of_Scoring</th>\n",
       "      <th>Review_Date</th>\n",
       "      <th>Average_Score</th>\n",
       "      <th>Hotel_Name</th>\n",
       "      <th>Reviewer_Nationality</th>\n",
       "      <th>Negative_Review</th>\n",
       "      <th>Review_Total_Negative_Word_Counts</th>\n",
       "      <th>Total_Number_of_Reviews</th>\n",
       "      <th>Positive_Review</th>\n",
       "      <th>Review_Total_Positive_Word_Counts</th>\n",
       "      <th>Total_Number_of_Reviews_Reviewer_Has_Given</th>\n",
       "      <th>Reviewer_Score</th>\n",
       "      <th>Tags</th>\n",
       "      <th>days_since_review</th>\n",
       "      <th>lat</th>\n",
       "      <th>lng</th>\n",
       "    </tr>\n",
       "  </thead>\n",
       "  <tbody>\n",
       "    <tr>\n",
       "      <th>0</th>\n",
       "      <td>s Gravesandestraat 55 Oost 1092 AA Amsterdam ...</td>\n",
       "      <td>194</td>\n",
       "      <td>8/3/2017</td>\n",
       "      <td>7.7</td>\n",
       "      <td>Hotel Arena</td>\n",
       "      <td>Russia</td>\n",
       "      <td>I am so angry that i made this post available...</td>\n",
       "      <td>397</td>\n",
       "      <td>1403</td>\n",
       "      <td>Only the park outside of the hotel was beauti...</td>\n",
       "      <td>11</td>\n",
       "      <td>7</td>\n",
       "      <td>2.9</td>\n",
       "      <td>[' Leisure trip ', ' Couple ', ' Duplex Double...</td>\n",
       "      <td>0 days</td>\n",
       "      <td>52.360576</td>\n",
       "      <td>4.915968</td>\n",
       "    </tr>\n",
       "    <tr>\n",
       "      <th>1</th>\n",
       "      <td>s Gravesandestraat 55 Oost 1092 AA Amsterdam ...</td>\n",
       "      <td>194</td>\n",
       "      <td>8/3/2017</td>\n",
       "      <td>7.7</td>\n",
       "      <td>Hotel Arena</td>\n",
       "      <td>Ireland</td>\n",
       "      <td>No Negative</td>\n",
       "      <td>0</td>\n",
       "      <td>1403</td>\n",
       "      <td>No real complaints the hotel was great great ...</td>\n",
       "      <td>105</td>\n",
       "      <td>7</td>\n",
       "      <td>7.5</td>\n",
       "      <td>[' Leisure trip ', ' Couple ', ' Duplex Double...</td>\n",
       "      <td>0 days</td>\n",
       "      <td>52.360576</td>\n",
       "      <td>4.915968</td>\n",
       "    </tr>\n",
       "    <tr>\n",
       "      <th>2</th>\n",
       "      <td>s Gravesandestraat 55 Oost 1092 AA Amsterdam ...</td>\n",
       "      <td>194</td>\n",
       "      <td>7/31/2017</td>\n",
       "      <td>7.7</td>\n",
       "      <td>Hotel Arena</td>\n",
       "      <td>Australia</td>\n",
       "      <td>Rooms are nice but for elderly a bit difficul...</td>\n",
       "      <td>42</td>\n",
       "      <td>1403</td>\n",
       "      <td>Location was good and staff were ok It is cut...</td>\n",
       "      <td>21</td>\n",
       "      <td>9</td>\n",
       "      <td>7.1</td>\n",
       "      <td>[' Leisure trip ', ' Family with young childre...</td>\n",
       "      <td>3 days</td>\n",
       "      <td>52.360576</td>\n",
       "      <td>4.915968</td>\n",
       "    </tr>\n",
       "    <tr>\n",
       "      <th>3</th>\n",
       "      <td>s Gravesandestraat 55 Oost 1092 AA Amsterdam ...</td>\n",
       "      <td>194</td>\n",
       "      <td>7/31/2017</td>\n",
       "      <td>7.7</td>\n",
       "      <td>Hotel Arena</td>\n",
       "      <td>United Kingdom</td>\n",
       "      <td>My room was dirty and I was afraid to walk ba...</td>\n",
       "      <td>210</td>\n",
       "      <td>1403</td>\n",
       "      <td>Great location in nice surroundings the bar a...</td>\n",
       "      <td>26</td>\n",
       "      <td>1</td>\n",
       "      <td>3.8</td>\n",
       "      <td>[' Leisure trip ', ' Solo traveler ', ' Duplex...</td>\n",
       "      <td>3 days</td>\n",
       "      <td>52.360576</td>\n",
       "      <td>4.915968</td>\n",
       "    </tr>\n",
       "    <tr>\n",
       "      <th>4</th>\n",
       "      <td>s Gravesandestraat 55 Oost 1092 AA Amsterdam ...</td>\n",
       "      <td>194</td>\n",
       "      <td>7/24/2017</td>\n",
       "      <td>7.7</td>\n",
       "      <td>Hotel Arena</td>\n",
       "      <td>New Zealand</td>\n",
       "      <td>You When I booked with your company on line y...</td>\n",
       "      <td>140</td>\n",
       "      <td>1403</td>\n",
       "      <td>Amazing location and building Romantic setting</td>\n",
       "      <td>8</td>\n",
       "      <td>3</td>\n",
       "      <td>6.7</td>\n",
       "      <td>[' Leisure trip ', ' Couple ', ' Suite ', ' St...</td>\n",
       "      <td>10 days</td>\n",
       "      <td>52.360576</td>\n",
       "      <td>4.915968</td>\n",
       "    </tr>\n",
       "  </tbody>\n",
       "</table>\n",
       "</div>"
      ],
      "text/plain": [
       "                                       Hotel_Address  \\\n",
       "0   s Gravesandestraat 55 Oost 1092 AA Amsterdam ...   \n",
       "1   s Gravesandestraat 55 Oost 1092 AA Amsterdam ...   \n",
       "2   s Gravesandestraat 55 Oost 1092 AA Amsterdam ...   \n",
       "3   s Gravesandestraat 55 Oost 1092 AA Amsterdam ...   \n",
       "4   s Gravesandestraat 55 Oost 1092 AA Amsterdam ...   \n",
       "\n",
       "   Additional_Number_of_Scoring Review_Date  Average_Score   Hotel_Name  \\\n",
       "0                           194    8/3/2017            7.7  Hotel Arena   \n",
       "1                           194    8/3/2017            7.7  Hotel Arena   \n",
       "2                           194   7/31/2017            7.7  Hotel Arena   \n",
       "3                           194   7/31/2017            7.7  Hotel Arena   \n",
       "4                           194   7/24/2017            7.7  Hotel Arena   \n",
       "\n",
       "  Reviewer_Nationality                                    Negative_Review  \\\n",
       "0              Russia    I am so angry that i made this post available...   \n",
       "1             Ireland                                         No Negative   \n",
       "2           Australia    Rooms are nice but for elderly a bit difficul...   \n",
       "3      United Kingdom    My room was dirty and I was afraid to walk ba...   \n",
       "4         New Zealand    You When I booked with your company on line y...   \n",
       "\n",
       "   Review_Total_Negative_Word_Counts  Total_Number_of_Reviews  \\\n",
       "0                                397                     1403   \n",
       "1                                  0                     1403   \n",
       "2                                 42                     1403   \n",
       "3                                210                     1403   \n",
       "4                                140                     1403   \n",
       "\n",
       "                                     Positive_Review  \\\n",
       "0   Only the park outside of the hotel was beauti...   \n",
       "1   No real complaints the hotel was great great ...   \n",
       "2   Location was good and staff were ok It is cut...   \n",
       "3   Great location in nice surroundings the bar a...   \n",
       "4    Amazing location and building Romantic setting    \n",
       "\n",
       "   Review_Total_Positive_Word_Counts  \\\n",
       "0                                 11   \n",
       "1                                105   \n",
       "2                                 21   \n",
       "3                                 26   \n",
       "4                                  8   \n",
       "\n",
       "   Total_Number_of_Reviews_Reviewer_Has_Given  Reviewer_Score  \\\n",
       "0                                           7             2.9   \n",
       "1                                           7             7.5   \n",
       "2                                           9             7.1   \n",
       "3                                           1             3.8   \n",
       "4                                           3             6.7   \n",
       "\n",
       "                                                Tags days_since_review  \\\n",
       "0  [' Leisure trip ', ' Couple ', ' Duplex Double...            0 days   \n",
       "1  [' Leisure trip ', ' Couple ', ' Duplex Double...            0 days   \n",
       "2  [' Leisure trip ', ' Family with young childre...            3 days   \n",
       "3  [' Leisure trip ', ' Solo traveler ', ' Duplex...            3 days   \n",
       "4  [' Leisure trip ', ' Couple ', ' Suite ', ' St...           10 days   \n",
       "\n",
       "         lat       lng  \n",
       "0  52.360576  4.915968  \n",
       "1  52.360576  4.915968  \n",
       "2  52.360576  4.915968  \n",
       "3  52.360576  4.915968  \n",
       "4  52.360576  4.915968  "
      ]
     },
     "execution_count": 4,
     "metadata": {},
     "output_type": "execute_result"
    }
   ],
   "source": [
    "reviews_df = pd.read_csv(\"Hotel_Reviews.csv\")\n",
    "reviews_df.head()"
   ]
  },
  {
   "cell_type": "markdown",
   "id": "c4070df1-7638-4aa1-93c8-c4f2ce8b8c6c",
   "metadata": {},
   "source": [
    "Append the positive and negative text reviews"
   ]
  },
  {
   "cell_type": "code",
   "execution_count": 5,
   "id": "bd3deb3c-8894-4f44-bf8b-826b4e4f590e",
   "metadata": {},
   "outputs": [],
   "source": [
    "reviews_df[\"review\"] = reviews_df[\"Negative_Review\"] + reviews_df[\"Positive_Review\"]"
   ]
  },
  {
   "cell_type": "markdown",
   "id": "11bbc6ba-efa4-44ed-b457-22cd63164655",
   "metadata": {},
   "source": [
    "Create the label"
   ]
  },
  {
   "cell_type": "code",
   "execution_count": 6,
   "id": "2d75ee77-1607-46ea-b2f9-80ea10740214",
   "metadata": {
    "tags": []
   },
   "outputs": [],
   "source": [
    "reviews_df[\"is_bad_review\"] = reviews_df[\"Reviewer_Score\"].apply(lambda x: 1 if x < 5 else 0)"
   ]
  },
  {
   "cell_type": "markdown",
   "id": "dcbaa145-c4da-43cd-bf40-e4bc11912ba5",
   "metadata": {},
   "source": [
    "Select only relevant columns"
   ]
  },
  {
   "cell_type": "code",
   "execution_count": 7,
   "id": "4806470b-2cb7-40b6-a72b-169b5682885f",
   "metadata": {
    "tags": []
   },
   "outputs": [
    {
     "data": {
      "text/html": [
       "<div>\n",
       "<style scoped>\n",
       "    .dataframe tbody tr th:only-of-type {\n",
       "        vertical-align: middle;\n",
       "    }\n",
       "\n",
       "    .dataframe tbody tr th {\n",
       "        vertical-align: top;\n",
       "    }\n",
       "\n",
       "    .dataframe thead th {\n",
       "        text-align: right;\n",
       "    }\n",
       "</style>\n",
       "<table border=\"1\" class=\"dataframe\">\n",
       "  <thead>\n",
       "    <tr style=\"text-align: right;\">\n",
       "      <th></th>\n",
       "      <th>review</th>\n",
       "      <th>is_bad_review</th>\n",
       "    </tr>\n",
       "  </thead>\n",
       "  <tbody>\n",
       "    <tr>\n",
       "      <th>0</th>\n",
       "      <td>I am so angry that i made this post available...</td>\n",
       "      <td>1</td>\n",
       "    </tr>\n",
       "    <tr>\n",
       "      <th>1</th>\n",
       "      <td>No Negative No real complaints the hotel was g...</td>\n",
       "      <td>0</td>\n",
       "    </tr>\n",
       "    <tr>\n",
       "      <th>2</th>\n",
       "      <td>Rooms are nice but for elderly a bit difficul...</td>\n",
       "      <td>0</td>\n",
       "    </tr>\n",
       "    <tr>\n",
       "      <th>3</th>\n",
       "      <td>My room was dirty and I was afraid to walk ba...</td>\n",
       "      <td>1</td>\n",
       "    </tr>\n",
       "    <tr>\n",
       "      <th>4</th>\n",
       "      <td>You When I booked with your company on line y...</td>\n",
       "      <td>0</td>\n",
       "    </tr>\n",
       "  </tbody>\n",
       "</table>\n",
       "</div>"
      ],
      "text/plain": [
       "                                              review  is_bad_review\n",
       "0   I am so angry that i made this post available...              1\n",
       "1  No Negative No real complaints the hotel was g...              0\n",
       "2   Rooms are nice but for elderly a bit difficul...              0\n",
       "3   My room was dirty and I was afraid to walk ba...              1\n",
       "4   You When I booked with your company on line y...              0"
      ]
     },
     "execution_count": 7,
     "metadata": {},
     "output_type": "execute_result"
    }
   ],
   "source": [
    "reviews_df = reviews_df[[\"review\", \"is_bad_review\"]]\n",
    "reviews_df.head()"
   ]
  },
  {
   "cell_type": "markdown",
   "id": "3c6416af-c0f8-4746-afa4-a83b36f4821d",
   "metadata": {
    "tags": []
   },
   "source": [
    "Sample data\n",
    "Reviews data is sampled in order to speed up computations."
   ]
  },
  {
   "cell_type": "code",
   "execution_count": 8,
   "id": "1e1a7b70-2377-473a-83c6-338b6557b840",
   "metadata": {
    "tags": []
   },
   "outputs": [],
   "source": [
    "reviews_df = reviews_df.sample(frac = 0.1, replace = False, random_state=42)"
   ]
  },
  {
   "cell_type": "markdown",
   "id": "bd56db12-91be-448c-b6be-e12c6d7c2308",
   "metadata": {},
   "source": [
    "Clean data"
   ]
  },
  {
   "cell_type": "markdown",
   "id": "050ba873-aff5-4057-9c05-3838216018bb",
   "metadata": {},
   "source": [
    "Remove 'No Negative' or 'No Positive' from text\n",
    "    \n",
    "    If the user doesn't leave any negative feedback comment, this will appear as \"No Negative\" in our data.\n",
    "    \n",
    "    This is the same for the positive comments with the default value \"No Positive\".\n",
    "    \n",
    "    We have to remove those parts from our texts."
   ]
  },
  {
   "cell_type": "code",
   "execution_count": 10,
   "id": "8700bb6f-8d22-4e46-8b07-cca50f084354",
   "metadata": {
    "tags": []
   },
   "outputs": [],
   "source": [
    "reviews_df[\"review\"] = reviews_df[\"review\"].apply(lambda x: x.replace(\"No Negative\", \"\").replace(\"No Positive\", \"\"))"
   ]
  },
  {
   "cell_type": "markdown",
   "id": "87d99bb0-92b1-4904-a21a-305ed00df3ac",
   "metadata": {},
   "source": [
    "Return the wordnet object value corresponding to the POS tag"
   ]
  },
  {
   "cell_type": "code",
   "execution_count": 11,
   "id": "106be115-6d37-4d78-aef8-b6b43ab94024",
   "metadata": {
    "tags": []
   },
   "outputs": [],
   "source": [
    "def get_wordnet_pos(pos_tag):\n",
    "    if pos_tag.startswith('J'):\n",
    "        return wordnet.ADJ\n",
    "    elif pos_tag.startswith('V'):\n",
    "        return wordnet.VERB\n",
    "    elif pos_tag.startswith('N'):\n",
    "        return wordnet.NOUN\n",
    "    elif pos_tag.startswith('R'):\n",
    "        return wordnet.ADV\n",
    "    else:\n",
    "        return wordnet.NOUN"
   ]
  },
  {
   "cell_type": "markdown",
   "id": "4e0ace66-0232-4288-95a9-1eabef6e7460",
   "metadata": {},
   "source": [
    "Clean text¶"
   ]
  },
  {
   "cell_type": "code",
   "execution_count": 12,
   "id": "003b65b4-e7f8-4a78-b5ff-5256399648a6",
   "metadata": {
    "tags": []
   },
   "outputs": [],
   "source": [
    "def clean_text(text):\n",
    "    # lower text\n",
    "    text = text.lower()\n",
    "    \n",
    "    # tokenize text and remove puncutation\n",
    "    text = [word.strip(string.punctuation) for word in text.split(\" \")]\n",
    "    \n",
    "    # remove words that contain numbers\n",
    "    text = [word for word in text if not any(c.isdigit() for c in word)]\n",
    "    \n",
    "    # remove stop words\n",
    "    stop = stopwords.words('english')\n",
    "    text = [x for x in text if x not in stop]\n",
    "    \n",
    "    # remove empty tokens\n",
    "    text = [t for t in text if len(t) > 0]\n",
    "    \n",
    "    # pos tag text\n",
    "    pos_tags = pos_tag(text)\n",
    "    \n",
    "    # lemmatize text\n",
    "    text = [WordNetLemmatizer().lemmatize(t[0], get_wordnet_pos(t[1])) for t in pos_tags]\n",
    "    \n",
    "    # remove words with only one letter\n",
    "    text = [t for t in text if len(t) > 1]\n",
    "    \n",
    "    # join all\n",
    "    text = \" \".join(text)\n",
    "    return(text)"
   ]
  },
  {
   "cell_type": "code",
   "execution_count": 13,
   "id": "fa792477-1b5e-4f25-a568-5706e305bb62",
   "metadata": {
    "tags": []
   },
   "outputs": [
    {
     "data": {
      "text/html": [
       "<div>\n",
       "<style scoped>\n",
       "    .dataframe tbody tr th:only-of-type {\n",
       "        vertical-align: middle;\n",
       "    }\n",
       "\n",
       "    .dataframe tbody tr th {\n",
       "        vertical-align: top;\n",
       "    }\n",
       "\n",
       "    .dataframe thead th {\n",
       "        text-align: right;\n",
       "    }\n",
       "</style>\n",
       "<table border=\"1\" class=\"dataframe\">\n",
       "  <thead>\n",
       "    <tr style=\"text-align: right;\">\n",
       "      <th></th>\n",
       "      <th>review</th>\n",
       "      <th>is_bad_review</th>\n",
       "    </tr>\n",
       "  </thead>\n",
       "  <tbody>\n",
       "    <tr>\n",
       "      <th>488440</th>\n",
       "      <td>Would have appreciated a shop in the hotel th...</td>\n",
       "      <td>0</td>\n",
       "    </tr>\n",
       "    <tr>\n",
       "      <th>274649</th>\n",
       "      <td>No tissue paper box was present at the room</td>\n",
       "      <td>0</td>\n",
       "    </tr>\n",
       "    <tr>\n",
       "      <th>374688</th>\n",
       "      <td>Pillows  Nice welcoming and service</td>\n",
       "      <td>0</td>\n",
       "    </tr>\n",
       "    <tr>\n",
       "      <th>404352</th>\n",
       "      <td>Everything including the nice upgrade The Hot...</td>\n",
       "      <td>0</td>\n",
       "    </tr>\n",
       "    <tr>\n",
       "      <th>451596</th>\n",
       "      <td>Lovely hotel v welcoming staff</td>\n",
       "      <td>0</td>\n",
       "    </tr>\n",
       "  </tbody>\n",
       "</table>\n",
       "</div>"
      ],
      "text/plain": [
       "                                                   review  is_bad_review\n",
       "488440   Would have appreciated a shop in the hotel th...              0\n",
       "274649        No tissue paper box was present at the room              0\n",
       "374688                Pillows  Nice welcoming and service              0\n",
       "404352   Everything including the nice upgrade The Hot...              0\n",
       "451596                    Lovely hotel v welcoming staff               0"
      ]
     },
     "execution_count": 13,
     "metadata": {},
     "output_type": "execute_result"
    }
   ],
   "source": [
    "reviews_df.head()"
   ]
  },
  {
   "cell_type": "code",
   "execution_count": 14,
   "id": "6f53858f-b038-4d23-87a9-16ba9433cde2",
   "metadata": {
    "tags": []
   },
   "outputs": [
    {
     "name": "stderr",
     "output_type": "stream",
     "text": [
      "[nltk_data] Downloading collection 'popular'\n",
      "[nltk_data]    | \n",
      "[nltk_data]    | Downloading package cmudict to /root/nltk_data...\n",
      "[nltk_data]    |   Package cmudict is already up-to-date!\n",
      "[nltk_data]    | Downloading package gazetteers to /root/nltk_data...\n",
      "[nltk_data]    |   Package gazetteers is already up-to-date!\n",
      "[nltk_data]    | Downloading package genesis to /root/nltk_data...\n",
      "[nltk_data]    |   Package genesis is already up-to-date!\n",
      "[nltk_data]    | Downloading package gutenberg to /root/nltk_data...\n",
      "[nltk_data]    |   Package gutenberg is already up-to-date!\n",
      "[nltk_data]    | Downloading package inaugural to /root/nltk_data...\n",
      "[nltk_data]    |   Package inaugural is already up-to-date!\n",
      "[nltk_data]    | Downloading package movie_reviews to\n",
      "[nltk_data]    |     /root/nltk_data...\n",
      "[nltk_data]    |   Package movie_reviews is already up-to-date!\n",
      "[nltk_data]    | Downloading package names to /root/nltk_data...\n",
      "[nltk_data]    |   Package names is already up-to-date!\n",
      "[nltk_data]    | Downloading package shakespeare to /root/nltk_data...\n",
      "[nltk_data]    |   Package shakespeare is already up-to-date!\n",
      "[nltk_data]    | Downloading package stopwords to /root/nltk_data...\n",
      "[nltk_data]    |   Package stopwords is already up-to-date!\n",
      "[nltk_data]    | Downloading package treebank to /root/nltk_data...\n",
      "[nltk_data]    |   Package treebank is already up-to-date!\n",
      "[nltk_data]    | Downloading package twitter_samples to\n",
      "[nltk_data]    |     /root/nltk_data...\n",
      "[nltk_data]    |   Package twitter_samples is already up-to-date!\n",
      "[nltk_data]    | Downloading package omw to /root/nltk_data...\n",
      "[nltk_data]    |   Package omw is already up-to-date!\n",
      "[nltk_data]    | Downloading package omw-1.4 to /root/nltk_data...\n",
      "[nltk_data]    |   Package omw-1.4 is already up-to-date!\n",
      "[nltk_data]    | Downloading package wordnet to /root/nltk_data...\n",
      "[nltk_data]    |   Package wordnet is already up-to-date!\n",
      "[nltk_data]    | Downloading package wordnet2021 to /root/nltk_data...\n",
      "[nltk_data]    |   Package wordnet2021 is already up-to-date!\n",
      "[nltk_data]    | Downloading package wordnet31 to /root/nltk_data...\n",
      "[nltk_data]    |   Package wordnet31 is already up-to-date!\n",
      "[nltk_data]    | Downloading package wordnet_ic to /root/nltk_data...\n",
      "[nltk_data]    |   Package wordnet_ic is already up-to-date!\n",
      "[nltk_data]    | Downloading package words to /root/nltk_data...\n",
      "[nltk_data]    |   Package words is already up-to-date!\n",
      "[nltk_data]    | Downloading package maxent_ne_chunker to\n",
      "[nltk_data]    |     /root/nltk_data...\n",
      "[nltk_data]    |   Package maxent_ne_chunker is already up-to-date!\n",
      "[nltk_data]    | Downloading package punkt to /root/nltk_data...\n",
      "[nltk_data]    |   Package punkt is already up-to-date!\n",
      "[nltk_data]    | Downloading package snowball_data to\n",
      "[nltk_data]    |     /root/nltk_data...\n",
      "[nltk_data]    |   Package snowball_data is already up-to-date!\n",
      "[nltk_data]    | Downloading package averaged_perceptron_tagger to\n",
      "[nltk_data]    |     /root/nltk_data...\n",
      "[nltk_data]    |   Package averaged_perceptron_tagger is already up-\n",
      "[nltk_data]    |       to-date!\n",
      "[nltk_data]    | \n",
      "[nltk_data]  Done downloading collection popular\n",
      "[nltk_data] Downloading package vader_lexicon to /root/nltk_data...\n",
      "[nltk_data]   Package vader_lexicon is already up-to-date!\n"
     ]
    },
    {
     "data": {
      "text/plain": [
       "True"
      ]
     },
     "execution_count": 14,
     "metadata": {},
     "output_type": "execute_result"
    }
   ],
   "source": [
    "import nltk\n",
    "nltk.download('popular')\n",
    "nltk.download('vader_lexicon')"
   ]
  },
  {
   "cell_type": "markdown",
   "id": "85629f60-fa9f-4051-a28e-0910921cdfa9",
   "metadata": {},
   "source": [
    "Clean text data"
   ]
  },
  {
   "cell_type": "code",
   "execution_count": 15,
   "id": "cb8559b9-2bbf-4b6e-a194-5511b360bb6b",
   "metadata": {
    "tags": []
   },
   "outputs": [
    {
     "data": {
      "text/html": [
       "<div>\n",
       "<style scoped>\n",
       "    .dataframe tbody tr th:only-of-type {\n",
       "        vertical-align: middle;\n",
       "    }\n",
       "\n",
       "    .dataframe tbody tr th {\n",
       "        vertical-align: top;\n",
       "    }\n",
       "\n",
       "    .dataframe thead th {\n",
       "        text-align: right;\n",
       "    }\n",
       "</style>\n",
       "<table border=\"1\" class=\"dataframe\">\n",
       "  <thead>\n",
       "    <tr style=\"text-align: right;\">\n",
       "      <th></th>\n",
       "      <th>review</th>\n",
       "      <th>is_bad_review</th>\n",
       "      <th>review_clean</th>\n",
       "    </tr>\n",
       "  </thead>\n",
       "  <tbody>\n",
       "    <tr>\n",
       "      <th>488440</th>\n",
       "      <td>Would have appreciated a shop in the hotel th...</td>\n",
       "      <td>0</td>\n",
       "      <td>would appreciate shop hotel sell drinking wate...</td>\n",
       "    </tr>\n",
       "    <tr>\n",
       "      <th>274649</th>\n",
       "      <td>No tissue paper box was present at the room</td>\n",
       "      <td>0</td>\n",
       "      <td>tissue paper box present room</td>\n",
       "    </tr>\n",
       "    <tr>\n",
       "      <th>374688</th>\n",
       "      <td>Pillows  Nice welcoming and service</td>\n",
       "      <td>0</td>\n",
       "      <td>pillow nice welcome service</td>\n",
       "    </tr>\n",
       "    <tr>\n",
       "      <th>404352</th>\n",
       "      <td>Everything including the nice upgrade The Hot...</td>\n",
       "      <td>0</td>\n",
       "      <td>everything include nice upgrade hotel revamp s...</td>\n",
       "    </tr>\n",
       "    <tr>\n",
       "      <th>451596</th>\n",
       "      <td>Lovely hotel v welcoming staff</td>\n",
       "      <td>0</td>\n",
       "      <td>lovely hotel welcome staff</td>\n",
       "    </tr>\n",
       "  </tbody>\n",
       "</table>\n",
       "</div>"
      ],
      "text/plain": [
       "                                                   review  is_bad_review  \\\n",
       "488440   Would have appreciated a shop in the hotel th...              0   \n",
       "274649        No tissue paper box was present at the room              0   \n",
       "374688                Pillows  Nice welcoming and service              0   \n",
       "404352   Everything including the nice upgrade The Hot...              0   \n",
       "451596                    Lovely hotel v welcoming staff               0   \n",
       "\n",
       "                                             review_clean  \n",
       "488440  would appreciate shop hotel sell drinking wate...  \n",
       "274649                      tissue paper box present room  \n",
       "374688                        pillow nice welcome service  \n",
       "404352  everything include nice upgrade hotel revamp s...  \n",
       "451596                         lovely hotel welcome staff  "
      ]
     },
     "execution_count": 15,
     "metadata": {},
     "output_type": "execute_result"
    }
   ],
   "source": [
    "reviews_df[\"review_clean\"] = reviews_df[\"review\"].apply(lambda x: clean_text(x))\n",
    "reviews_df.head()"
   ]
  },
  {
   "cell_type": "markdown",
   "id": "c3f5966f-9277-41e8-af65-9fd27776672e",
   "metadata": {},
   "source": [
    "To clean textual data, we call our custom 'clean_text' function that performs several transformations:\n",
    "    \n",
    "    Lower the text\n",
    "    \n",
    "    Tokenize the text (split the text into words) and remove the punctuation\n",
    "    \n",
    "    Remove useless words that contain numbers\n",
    "    \n",
    "    Remove useless stop words like 'the', 'a',' this' etc.\n",
    "    \n",
    "    Part-Of-Speech (POS) tagging: assign a tag to every word to define if it corresponds to a noun, a verb, etc. using the WordNet lexical database\n",
    "    \n",
    "    Lemmatize the text: transform every word into its root form (e.g. rooms -> room, slept -> sleep)"
   ]
  },
  {
   "cell_type": "markdown",
   "id": "93839117-da36-424a-85e4-3b7252ee6424",
   "metadata": {},
   "source": [
    "Feature engineering"
   ]
  },
  {
   "cell_type": "code",
   "execution_count": 16,
   "id": "6e68977b-f86a-4f80-9e67-5abc2a484299",
   "metadata": {
    "tags": []
   },
   "outputs": [],
   "source": [
    "# add sentiment anaylsis columns\n",
    "from nltk.sentiment.vader import SentimentIntensityAnalyzer\n",
    "\n",
    "# Resource vader_lexicon not found.\n",
    "# Please use the NLTK Downloader to obtain the resource:\n",
    "# import nltk\n",
    "# nltk.download('vader_lexicon')\n",
    "\n",
    "sid = SentimentIntensityAnalyzer()\n",
    "reviews_df[\"sentiments\"] = reviews_df[\"review\"].apply(lambda x: sid.polarity_scores(x))\n",
    "reviews_df = pd.concat([reviews_df.drop(['sentiments'], axis=1), reviews_df['sentiments'].apply(pd.Series)], axis=1)"
   ]
  },
  {
   "cell_type": "code",
   "execution_count": 17,
   "id": "a4bcc296-f533-4bc9-8d3d-13db019a2900",
   "metadata": {
    "tags": []
   },
   "outputs": [
    {
     "data": {
      "text/html": [
       "<div>\n",
       "<style scoped>\n",
       "    .dataframe tbody tr th:only-of-type {\n",
       "        vertical-align: middle;\n",
       "    }\n",
       "\n",
       "    .dataframe tbody tr th {\n",
       "        vertical-align: top;\n",
       "    }\n",
       "\n",
       "    .dataframe thead th {\n",
       "        text-align: right;\n",
       "    }\n",
       "</style>\n",
       "<table border=\"1\" class=\"dataframe\">\n",
       "  <thead>\n",
       "    <tr style=\"text-align: right;\">\n",
       "      <th></th>\n",
       "      <th>review</th>\n",
       "      <th>is_bad_review</th>\n",
       "      <th>review_clean</th>\n",
       "      <th>neg</th>\n",
       "      <th>neu</th>\n",
       "      <th>pos</th>\n",
       "      <th>compound</th>\n",
       "    </tr>\n",
       "  </thead>\n",
       "  <tbody>\n",
       "    <tr>\n",
       "      <th>488440</th>\n",
       "      <td>Would have appreciated a shop in the hotel th...</td>\n",
       "      <td>0</td>\n",
       "      <td>would appreciate shop hotel sell drinking wate...</td>\n",
       "      <td>0.049</td>\n",
       "      <td>0.617</td>\n",
       "      <td>0.334</td>\n",
       "      <td>0.9924</td>\n",
       "    </tr>\n",
       "    <tr>\n",
       "      <th>274649</th>\n",
       "      <td>No tissue paper box was present at the room</td>\n",
       "      <td>0</td>\n",
       "      <td>tissue paper box present room</td>\n",
       "      <td>0.216</td>\n",
       "      <td>0.784</td>\n",
       "      <td>0.000</td>\n",
       "      <td>-0.2960</td>\n",
       "    </tr>\n",
       "    <tr>\n",
       "      <th>374688</th>\n",
       "      <td>Pillows  Nice welcoming and service</td>\n",
       "      <td>0</td>\n",
       "      <td>pillow nice welcome service</td>\n",
       "      <td>0.000</td>\n",
       "      <td>0.345</td>\n",
       "      <td>0.655</td>\n",
       "      <td>0.6908</td>\n",
       "    </tr>\n",
       "    <tr>\n",
       "      <th>404352</th>\n",
       "      <td>Everything including the nice upgrade The Hot...</td>\n",
       "      <td>0</td>\n",
       "      <td>everything include nice upgrade hotel revamp s...</td>\n",
       "      <td>0.000</td>\n",
       "      <td>0.621</td>\n",
       "      <td>0.379</td>\n",
       "      <td>0.9153</td>\n",
       "    </tr>\n",
       "    <tr>\n",
       "      <th>451596</th>\n",
       "      <td>Lovely hotel v welcoming staff</td>\n",
       "      <td>0</td>\n",
       "      <td>lovely hotel welcome staff</td>\n",
       "      <td>0.000</td>\n",
       "      <td>0.230</td>\n",
       "      <td>0.770</td>\n",
       "      <td>0.7717</td>\n",
       "    </tr>\n",
       "  </tbody>\n",
       "</table>\n",
       "</div>"
      ],
      "text/plain": [
       "                                                   review  is_bad_review  \\\n",
       "488440   Would have appreciated a shop in the hotel th...              0   \n",
       "274649        No tissue paper box was present at the room              0   \n",
       "374688                Pillows  Nice welcoming and service              0   \n",
       "404352   Everything including the nice upgrade The Hot...              0   \n",
       "451596                    Lovely hotel v welcoming staff               0   \n",
       "\n",
       "                                             review_clean    neg    neu  \\\n",
       "488440  would appreciate shop hotel sell drinking wate...  0.049  0.617   \n",
       "274649                      tissue paper box present room  0.216  0.784   \n",
       "374688                        pillow nice welcome service  0.000  0.345   \n",
       "404352  everything include nice upgrade hotel revamp s...  0.000  0.621   \n",
       "451596                         lovely hotel welcome staff  0.000  0.230   \n",
       "\n",
       "          pos  compound  \n",
       "488440  0.334    0.9924  \n",
       "274649  0.000   -0.2960  \n",
       "374688  0.655    0.6908  \n",
       "404352  0.379    0.9153  \n",
       "451596  0.770    0.7717  "
      ]
     },
     "execution_count": 17,
     "metadata": {},
     "output_type": "execute_result"
    }
   ],
   "source": [
    "reviews_df.head()"
   ]
  },
  {
   "cell_type": "markdown",
   "id": "4179ad85-c470-4b91-ba3d-7d850ac17382",
   "metadata": {},
   "source": [
    "We first start by adding sentiment analysis features because we can guess that customers' reviews are highly linked to how they felt about their stay at the hotel. We use Vader, which is a part of the NLTK module designed for sentiment analysis. Vader uses a lexicon of words to find which ones are positives or negatives. It also takes into account the context of the sentences to determine the sentiment scores.\n",
    "\n",
    "For each text, Vader returns 4 values:\n",
    "\n",
    "a neutrality score\n",
    "\n",
    "a positivity score\n",
    "\n",
    "a negativity score\n",
    "\n",
    "an overall score that summarizes the previous scores\n",
    "\n",
    "We will integrate those 4 values as features in our dataset."
   ]
  },
  {
   "cell_type": "code",
   "execution_count": 18,
   "id": "ca82edea-7bd7-47ac-81c6-9f2c2f841261",
   "metadata": {},
   "outputs": [],
   "source": [
    "# add number of characters column\n",
    "reviews_df[\"nb_chars\"] = reviews_df[\"review\"].apply(lambda x: len(x))\n",
    "\n",
    "# add number of words column\n",
    "reviews_df[\"nb_words\"] = reviews_df[\"review\"].apply(lambda x: len(x.split(\" \")))"
   ]
  },
  {
   "cell_type": "code",
   "execution_count": 19,
   "id": "07d434f0-598c-4465-a9a5-c6b74f7bb2c6",
   "metadata": {
    "tags": []
   },
   "outputs": [
    {
     "data": {
      "text/html": [
       "<div>\n",
       "<style scoped>\n",
       "    .dataframe tbody tr th:only-of-type {\n",
       "        vertical-align: middle;\n",
       "    }\n",
       "\n",
       "    .dataframe tbody tr th {\n",
       "        vertical-align: top;\n",
       "    }\n",
       "\n",
       "    .dataframe thead th {\n",
       "        text-align: right;\n",
       "    }\n",
       "</style>\n",
       "<table border=\"1\" class=\"dataframe\">\n",
       "  <thead>\n",
       "    <tr style=\"text-align: right;\">\n",
       "      <th></th>\n",
       "      <th>review</th>\n",
       "      <th>is_bad_review</th>\n",
       "      <th>review_clean</th>\n",
       "      <th>neg</th>\n",
       "      <th>neu</th>\n",
       "      <th>pos</th>\n",
       "      <th>compound</th>\n",
       "      <th>nb_chars</th>\n",
       "      <th>nb_words</th>\n",
       "    </tr>\n",
       "  </thead>\n",
       "  <tbody>\n",
       "    <tr>\n",
       "      <th>488440</th>\n",
       "      <td>Would have appreciated a shop in the hotel th...</td>\n",
       "      <td>0</td>\n",
       "      <td>would appreciate shop hotel sell drinking wate...</td>\n",
       "      <td>0.049</td>\n",
       "      <td>0.617</td>\n",
       "      <td>0.334</td>\n",
       "      <td>0.9924</td>\n",
       "      <td>599</td>\n",
       "      <td>113</td>\n",
       "    </tr>\n",
       "    <tr>\n",
       "      <th>274649</th>\n",
       "      <td>No tissue paper box was present at the room</td>\n",
       "      <td>0</td>\n",
       "      <td>tissue paper box present room</td>\n",
       "      <td>0.216</td>\n",
       "      <td>0.784</td>\n",
       "      <td>0.000</td>\n",
       "      <td>-0.2960</td>\n",
       "      <td>44</td>\n",
       "      <td>10</td>\n",
       "    </tr>\n",
       "    <tr>\n",
       "      <th>374688</th>\n",
       "      <td>Pillows  Nice welcoming and service</td>\n",
       "      <td>0</td>\n",
       "      <td>pillow nice welcome service</td>\n",
       "      <td>0.000</td>\n",
       "      <td>0.345</td>\n",
       "      <td>0.655</td>\n",
       "      <td>0.6908</td>\n",
       "      <td>36</td>\n",
       "      <td>7</td>\n",
       "    </tr>\n",
       "    <tr>\n",
       "      <th>404352</th>\n",
       "      <td>Everything including the nice upgrade The Hot...</td>\n",
       "      <td>0</td>\n",
       "      <td>everything include nice upgrade hotel revamp s...</td>\n",
       "      <td>0.000</td>\n",
       "      <td>0.621</td>\n",
       "      <td>0.379</td>\n",
       "      <td>0.9153</td>\n",
       "      <td>155</td>\n",
       "      <td>27</td>\n",
       "    </tr>\n",
       "    <tr>\n",
       "      <th>451596</th>\n",
       "      <td>Lovely hotel v welcoming staff</td>\n",
       "      <td>0</td>\n",
       "      <td>lovely hotel welcome staff</td>\n",
       "      <td>0.000</td>\n",
       "      <td>0.230</td>\n",
       "      <td>0.770</td>\n",
       "      <td>0.7717</td>\n",
       "      <td>32</td>\n",
       "      <td>7</td>\n",
       "    </tr>\n",
       "  </tbody>\n",
       "</table>\n",
       "</div>"
      ],
      "text/plain": [
       "                                                   review  is_bad_review  \\\n",
       "488440   Would have appreciated a shop in the hotel th...              0   \n",
       "274649        No tissue paper box was present at the room              0   \n",
       "374688                Pillows  Nice welcoming and service              0   \n",
       "404352   Everything including the nice upgrade The Hot...              0   \n",
       "451596                    Lovely hotel v welcoming staff               0   \n",
       "\n",
       "                                             review_clean    neg    neu  \\\n",
       "488440  would appreciate shop hotel sell drinking wate...  0.049  0.617   \n",
       "274649                      tissue paper box present room  0.216  0.784   \n",
       "374688                        pillow nice welcome service  0.000  0.345   \n",
       "404352  everything include nice upgrade hotel revamp s...  0.000  0.621   \n",
       "451596                         lovely hotel welcome staff  0.000  0.230   \n",
       "\n",
       "          pos  compound  nb_chars  nb_words  \n",
       "488440  0.334    0.9924       599       113  \n",
       "274649  0.000   -0.2960        44        10  \n",
       "374688  0.655    0.6908        36         7  \n",
       "404352  0.379    0.9153       155        27  \n",
       "451596  0.770    0.7717        32         7  "
      ]
     },
     "execution_count": 19,
     "metadata": {},
     "output_type": "execute_result"
    }
   ],
   "source": [
    "reviews_df.head()"
   ]
  },
  {
   "cell_type": "markdown",
   "id": "d27a5e4c-247f-4815-9f84-02c75369b99e",
   "metadata": {},
   "source": [
    "Next, we add some simple metrics for every text:\n",
    "\n",
    "number of characters in the text\n",
    "\n",
    "number of words in the text"
   ]
  },
  {
   "cell_type": "code",
   "execution_count": 20,
   "id": "d6a344a6-cd38-4c55-9891-287e65a73459",
   "metadata": {
    "tags": []
   },
   "outputs": [
    {
     "name": "stdout",
     "output_type": "stream",
     "text": [
      "Collecting gensim\n",
      "  Using cached gensim-4.2.0-cp37-cp37m-manylinux_2_12_x86_64.manylinux2010_x86_64.whl (24.1 MB)\n",
      "Requirement already satisfied: numpy>=1.17.0 in /opt/conda/lib/python3.7/site-packages (from gensim) (1.21.6)\n",
      "Requirement already satisfied: scipy>=0.18.1 in /opt/conda/lib/python3.7/site-packages (from gensim) (1.4.1)\n",
      "Collecting smart-open>=1.8.1\n",
      "  Using cached smart_open-6.3.0-py3-none-any.whl (56 kB)\n",
      "Installing collected packages: smart-open, gensim\n",
      "Successfully installed gensim-4.2.0 smart-open-6.3.0\n",
      "\u001b[33mWARNING: Running pip as the 'root' user can result in broken permissions and conflicting behaviour with the system package manager. It is recommended to use a virtual environment instead: https://pip.pypa.io/warnings/venv\u001b[0m\u001b[33m\n",
      "\u001b[0m\n",
      "\u001b[1m[\u001b[0m\u001b[34;49mnotice\u001b[0m\u001b[1;39;49m]\u001b[0m\u001b[39;49m A new release of pip is available: \u001b[0m\u001b[31;49m23.0\u001b[0m\u001b[39;49m -> \u001b[0m\u001b[32;49m23.0.1\u001b[0m\n",
      "\u001b[1m[\u001b[0m\u001b[34;49mnotice\u001b[0m\u001b[1;39;49m]\u001b[0m\u001b[39;49m To update, run: \u001b[0m\u001b[32;49mpip install --upgrade pip\u001b[0m\n"
     ]
    }
   ],
   "source": [
    "# create doc2vec vector columns\n",
    "# gensim is a Python framework for fast Vector Space Modelling\n",
    "!python -m pip install -U gensim\n",
    "from gensim.test.utils import common_texts\n",
    "from gensim.models.doc2vec import Doc2Vec, TaggedDocument\n",
    "\n",
    "documents = [TaggedDocument(doc, [i]) for i, doc in enumerate(reviews_df[\"review_clean\"].apply(lambda x: x.split(\" \")))]\n",
    "\n",
    "# train a Doc2Vec model with our text data\n",
    "model = Doc2Vec(documents, vector_size=5, window=2, min_count=1, workers=4)\n",
    "\n",
    "# transform each document into a vector data\n",
    "doc2vec_df = reviews_df[\"review_clean\"].apply(lambda x: model.infer_vector(x.split(\" \"))).apply(pd.Series)\n",
    "doc2vec_df.columns = [\"doc2vec_vector_\" + str(x) for x in doc2vec_df.columns]\n",
    "reviews_df = pd.concat([reviews_df, doc2vec_df], axis=1)"
   ]
  },
  {
   "cell_type": "code",
   "execution_count": 21,
   "id": "148cbf3b-8ff7-4af1-93dc-51dac191b13e",
   "metadata": {
    "tags": []
   },
   "outputs": [
    {
     "data": {
      "text/html": [
       "<div>\n",
       "<style scoped>\n",
       "    .dataframe tbody tr th:only-of-type {\n",
       "        vertical-align: middle;\n",
       "    }\n",
       "\n",
       "    .dataframe tbody tr th {\n",
       "        vertical-align: top;\n",
       "    }\n",
       "\n",
       "    .dataframe thead th {\n",
       "        text-align: right;\n",
       "    }\n",
       "</style>\n",
       "<table border=\"1\" class=\"dataframe\">\n",
       "  <thead>\n",
       "    <tr style=\"text-align: right;\">\n",
       "      <th></th>\n",
       "      <th>review</th>\n",
       "      <th>is_bad_review</th>\n",
       "      <th>review_clean</th>\n",
       "      <th>neg</th>\n",
       "      <th>neu</th>\n",
       "      <th>pos</th>\n",
       "      <th>compound</th>\n",
       "      <th>nb_chars</th>\n",
       "      <th>nb_words</th>\n",
       "      <th>doc2vec_vector_0</th>\n",
       "      <th>doc2vec_vector_1</th>\n",
       "      <th>doc2vec_vector_2</th>\n",
       "      <th>doc2vec_vector_3</th>\n",
       "      <th>doc2vec_vector_4</th>\n",
       "    </tr>\n",
       "  </thead>\n",
       "  <tbody>\n",
       "    <tr>\n",
       "      <th>488440</th>\n",
       "      <td>Would have appreciated a shop in the hotel th...</td>\n",
       "      <td>0</td>\n",
       "      <td>would appreciate shop hotel sell drinking wate...</td>\n",
       "      <td>0.049</td>\n",
       "      <td>0.617</td>\n",
       "      <td>0.334</td>\n",
       "      <td>0.9924</td>\n",
       "      <td>599</td>\n",
       "      <td>113</td>\n",
       "      <td>-0.274166</td>\n",
       "      <td>0.195057</td>\n",
       "      <td>-0.026462</td>\n",
       "      <td>0.204214</td>\n",
       "      <td>-0.418951</td>\n",
       "    </tr>\n",
       "    <tr>\n",
       "      <th>274649</th>\n",
       "      <td>No tissue paper box was present at the room</td>\n",
       "      <td>0</td>\n",
       "      <td>tissue paper box present room</td>\n",
       "      <td>0.216</td>\n",
       "      <td>0.784</td>\n",
       "      <td>0.000</td>\n",
       "      <td>-0.2960</td>\n",
       "      <td>44</td>\n",
       "      <td>10</td>\n",
       "      <td>-0.055639</td>\n",
       "      <td>0.176367</td>\n",
       "      <td>0.035466</td>\n",
       "      <td>-0.087439</td>\n",
       "      <td>-0.156886</td>\n",
       "    </tr>\n",
       "    <tr>\n",
       "      <th>374688</th>\n",
       "      <td>Pillows  Nice welcoming and service</td>\n",
       "      <td>0</td>\n",
       "      <td>pillow nice welcome service</td>\n",
       "      <td>0.000</td>\n",
       "      <td>0.345</td>\n",
       "      <td>0.655</td>\n",
       "      <td>0.6908</td>\n",
       "      <td>36</td>\n",
       "      <td>7</td>\n",
       "      <td>0.103955</td>\n",
       "      <td>0.086821</td>\n",
       "      <td>-0.035664</td>\n",
       "      <td>0.041603</td>\n",
       "      <td>-0.111930</td>\n",
       "    </tr>\n",
       "    <tr>\n",
       "      <th>404352</th>\n",
       "      <td>Everything including the nice upgrade The Hot...</td>\n",
       "      <td>0</td>\n",
       "      <td>everything include nice upgrade hotel revamp s...</td>\n",
       "      <td>0.000</td>\n",
       "      <td>0.621</td>\n",
       "      <td>0.379</td>\n",
       "      <td>0.9153</td>\n",
       "      <td>155</td>\n",
       "      <td>27</td>\n",
       "      <td>0.092149</td>\n",
       "      <td>0.264880</td>\n",
       "      <td>-0.057519</td>\n",
       "      <td>-0.170328</td>\n",
       "      <td>0.038383</td>\n",
       "    </tr>\n",
       "    <tr>\n",
       "      <th>451596</th>\n",
       "      <td>Lovely hotel v welcoming staff</td>\n",
       "      <td>0</td>\n",
       "      <td>lovely hotel welcome staff</td>\n",
       "      <td>0.000</td>\n",
       "      <td>0.230</td>\n",
       "      <td>0.770</td>\n",
       "      <td>0.7717</td>\n",
       "      <td>32</td>\n",
       "      <td>7</td>\n",
       "      <td>-0.038247</td>\n",
       "      <td>0.056754</td>\n",
       "      <td>-0.041327</td>\n",
       "      <td>-0.072125</td>\n",
       "      <td>-0.203679</td>\n",
       "    </tr>\n",
       "  </tbody>\n",
       "</table>\n",
       "</div>"
      ],
      "text/plain": [
       "                                                   review  is_bad_review  \\\n",
       "488440   Would have appreciated a shop in the hotel th...              0   \n",
       "274649        No tissue paper box was present at the room              0   \n",
       "374688                Pillows  Nice welcoming and service              0   \n",
       "404352   Everything including the nice upgrade The Hot...              0   \n",
       "451596                    Lovely hotel v welcoming staff               0   \n",
       "\n",
       "                                             review_clean    neg    neu  \\\n",
       "488440  would appreciate shop hotel sell drinking wate...  0.049  0.617   \n",
       "274649                      tissue paper box present room  0.216  0.784   \n",
       "374688                        pillow nice welcome service  0.000  0.345   \n",
       "404352  everything include nice upgrade hotel revamp s...  0.000  0.621   \n",
       "451596                         lovely hotel welcome staff  0.000  0.230   \n",
       "\n",
       "          pos  compound  nb_chars  nb_words  doc2vec_vector_0  \\\n",
       "488440  0.334    0.9924       599       113         -0.274166   \n",
       "274649  0.000   -0.2960        44        10         -0.055639   \n",
       "374688  0.655    0.6908        36         7          0.103955   \n",
       "404352  0.379    0.9153       155        27          0.092149   \n",
       "451596  0.770    0.7717        32         7         -0.038247   \n",
       "\n",
       "        doc2vec_vector_1  doc2vec_vector_2  doc2vec_vector_3  doc2vec_vector_4  \n",
       "488440          0.195057         -0.026462          0.204214         -0.418951  \n",
       "274649          0.176367          0.035466         -0.087439         -0.156886  \n",
       "374688          0.086821         -0.035664          0.041603         -0.111930  \n",
       "404352          0.264880         -0.057519         -0.170328          0.038383  \n",
       "451596          0.056754         -0.041327         -0.072125         -0.203679  "
      ]
     },
     "execution_count": 21,
     "metadata": {},
     "output_type": "execute_result"
    }
   ],
   "source": [
    "reviews_df.head()"
   ]
  },
  {
   "cell_type": "markdown",
   "id": "e315b9f7-ae1b-4ecf-8d4a-57e0c20cd82c",
   "metadata": {
    "tags": []
   },
   "source": [
    "The next step consists in extracting vector representations for every review.\n",
    "\n",
    "The module Gensim creates a numerical vector representation of every word in the corpus by using the contexts in which they appear (Word2Vec). This is performed using shallow neural networks. What's interesting is that similar words will have similar representation vectors.\n",
    "\n",
    "Each text can also be transformed into numerical vectors using the word vectors (Doc2Vec). Same texts will also have similar representations and that is why we can use those vectors as training features.\n",
    "\n",
    "We first have to train a Doc2Vec model by feeding in our text data. By applying this model to our reviews, we can get those representation vectors."
   ]
  },
  {
   "cell_type": "markdown",
   "id": "b36ec746-af46-4f90-adc7-0f0b43446df7",
   "metadata": {},
   "source": [
    "### TF-IDF stands for term frequency-inverse document frequency and it is a measure, used in the fields of information retrieval (IR) and machine learning, that can quantify the importance or relevance of string representations (words, phrases, lemmas, etc) in a document amongst a collection of documents (also known as a corpus)."
   ]
  },
  {
   "cell_type": "code",
   "execution_count": 22,
   "id": "d9912622-5d87-4377-9b72-ff3774b666f6",
   "metadata": {
    "tags": []
   },
   "outputs": [],
   "source": [
    "# add tf-idfs columns\n",
    "\n",
    "from sklearn.feature_extraction.text import TfidfVectorizer\n",
    "\n",
    "tfidf = TfidfVectorizer(min_df = 10)\n",
    "tfidf_result = tfidf.fit_transform(reviews_df[\"review_clean\"]).toarray()\n",
    "tfidf_df = pd.DataFrame(tfidf_result, columns = tfidf.get_feature_names())\n",
    "tfidf_df.columns = [\"word_\" + str(x) for x in tfidf_df.columns]\n",
    "tfidf_df.index = reviews_df.index\n",
    "reviews_df = pd.concat([reviews_df, tfidf_df], axis=1)"
   ]
  },
  {
   "cell_type": "markdown",
   "id": "34986f1b-dc31-49a5-b9ec-739a88d50505",
   "metadata": {},
   "source": [
    "Finally, we add the TF-IDF (Term Frequency - Inverse Document Frequency) values for every word and every document.\n",
    "\n",
    "But why not simply count how many times each word appears in every document? The problem with this method is that it doesn't take into account the relative importance of words in the texts. A word that appears in almost every text would not likely bring useful information for analysis. On the contrary, rare words may have a lot more meanings.\n",
    "\n",
    "The TF-IDF metric solves this problem:\n",
    "\n",
    "TF computes the classic number of times the word appears in the text\n",
    "IDF computes the relative importance of this word which depends on how many texts the word can be found\n",
    "We add TF-IDF columns for every word that appears in at least 10 different texts to filter some of them and reduce the size of the final output."
   ]
  },
  {
   "cell_type": "code",
   "execution_count": 24,
   "id": "155d52a2-4fd3-405e-a1ce-274bdc6dbe23",
   "metadata": {
    "tags": []
   },
   "outputs": [
    {
     "data": {
      "text/html": [
       "<div>\n",
       "<style scoped>\n",
       "    .dataframe tbody tr th:only-of-type {\n",
       "        vertical-align: middle;\n",
       "    }\n",
       "\n",
       "    .dataframe tbody tr th {\n",
       "        vertical-align: top;\n",
       "    }\n",
       "\n",
       "    .dataframe thead th {\n",
       "        text-align: right;\n",
       "    }\n",
       "</style>\n",
       "<table border=\"1\" class=\"dataframe\">\n",
       "  <thead>\n",
       "    <tr style=\"text-align: right;\">\n",
       "      <th></th>\n",
       "      <th>review</th>\n",
       "      <th>is_bad_review</th>\n",
       "      <th>review_clean</th>\n",
       "      <th>neg</th>\n",
       "      <th>neu</th>\n",
       "      <th>pos</th>\n",
       "      <th>compound</th>\n",
       "      <th>nb_chars</th>\n",
       "      <th>nb_words</th>\n",
       "      <th>doc2vec_vector_0</th>\n",
       "      <th>...</th>\n",
       "      <th>word_yet</th>\n",
       "      <th>word_yoghurt</th>\n",
       "      <th>word_yogurt</th>\n",
       "      <th>word_young</th>\n",
       "      <th>word_yr</th>\n",
       "      <th>word_yummy</th>\n",
       "      <th>word_zero</th>\n",
       "      <th>word_ziggo</th>\n",
       "      <th>word_zone</th>\n",
       "      <th>word_zuid</th>\n",
       "    </tr>\n",
       "  </thead>\n",
       "  <tbody>\n",
       "    <tr>\n",
       "      <th>488440</th>\n",
       "      <td>Would have appreciated a shop in the hotel th...</td>\n",
       "      <td>0</td>\n",
       "      <td>would appreciate shop hotel sell drinking wate...</td>\n",
       "      <td>0.049</td>\n",
       "      <td>0.617</td>\n",
       "      <td>0.334</td>\n",
       "      <td>0.9924</td>\n",
       "      <td>599</td>\n",
       "      <td>113</td>\n",
       "      <td>-0.274166</td>\n",
       "      <td>...</td>\n",
       "      <td>0.0</td>\n",
       "      <td>0.0</td>\n",
       "      <td>0.0</td>\n",
       "      <td>0.0</td>\n",
       "      <td>0.0</td>\n",
       "      <td>0.0</td>\n",
       "      <td>0.0</td>\n",
       "      <td>0.0</td>\n",
       "      <td>0.0</td>\n",
       "      <td>0.0</td>\n",
       "    </tr>\n",
       "    <tr>\n",
       "      <th>274649</th>\n",
       "      <td>No tissue paper box was present at the room</td>\n",
       "      <td>0</td>\n",
       "      <td>tissue paper box present room</td>\n",
       "      <td>0.216</td>\n",
       "      <td>0.784</td>\n",
       "      <td>0.000</td>\n",
       "      <td>-0.2960</td>\n",
       "      <td>44</td>\n",
       "      <td>10</td>\n",
       "      <td>-0.055639</td>\n",
       "      <td>...</td>\n",
       "      <td>0.0</td>\n",
       "      <td>0.0</td>\n",
       "      <td>0.0</td>\n",
       "      <td>0.0</td>\n",
       "      <td>0.0</td>\n",
       "      <td>0.0</td>\n",
       "      <td>0.0</td>\n",
       "      <td>0.0</td>\n",
       "      <td>0.0</td>\n",
       "      <td>0.0</td>\n",
       "    </tr>\n",
       "    <tr>\n",
       "      <th>374688</th>\n",
       "      <td>Pillows  Nice welcoming and service</td>\n",
       "      <td>0</td>\n",
       "      <td>pillow nice welcome service</td>\n",
       "      <td>0.000</td>\n",
       "      <td>0.345</td>\n",
       "      <td>0.655</td>\n",
       "      <td>0.6908</td>\n",
       "      <td>36</td>\n",
       "      <td>7</td>\n",
       "      <td>0.103955</td>\n",
       "      <td>...</td>\n",
       "      <td>0.0</td>\n",
       "      <td>0.0</td>\n",
       "      <td>0.0</td>\n",
       "      <td>0.0</td>\n",
       "      <td>0.0</td>\n",
       "      <td>0.0</td>\n",
       "      <td>0.0</td>\n",
       "      <td>0.0</td>\n",
       "      <td>0.0</td>\n",
       "      <td>0.0</td>\n",
       "    </tr>\n",
       "    <tr>\n",
       "      <th>404352</th>\n",
       "      <td>Everything including the nice upgrade The Hot...</td>\n",
       "      <td>0</td>\n",
       "      <td>everything include nice upgrade hotel revamp s...</td>\n",
       "      <td>0.000</td>\n",
       "      <td>0.621</td>\n",
       "      <td>0.379</td>\n",
       "      <td>0.9153</td>\n",
       "      <td>155</td>\n",
       "      <td>27</td>\n",
       "      <td>0.092149</td>\n",
       "      <td>...</td>\n",
       "      <td>0.0</td>\n",
       "      <td>0.0</td>\n",
       "      <td>0.0</td>\n",
       "      <td>0.0</td>\n",
       "      <td>0.0</td>\n",
       "      <td>0.0</td>\n",
       "      <td>0.0</td>\n",
       "      <td>0.0</td>\n",
       "      <td>0.0</td>\n",
       "      <td>0.0</td>\n",
       "    </tr>\n",
       "    <tr>\n",
       "      <th>451596</th>\n",
       "      <td>Lovely hotel v welcoming staff</td>\n",
       "      <td>0</td>\n",
       "      <td>lovely hotel welcome staff</td>\n",
       "      <td>0.000</td>\n",
       "      <td>0.230</td>\n",
       "      <td>0.770</td>\n",
       "      <td>0.7717</td>\n",
       "      <td>32</td>\n",
       "      <td>7</td>\n",
       "      <td>-0.038247</td>\n",
       "      <td>...</td>\n",
       "      <td>0.0</td>\n",
       "      <td>0.0</td>\n",
       "      <td>0.0</td>\n",
       "      <td>0.0</td>\n",
       "      <td>0.0</td>\n",
       "      <td>0.0</td>\n",
       "      <td>0.0</td>\n",
       "      <td>0.0</td>\n",
       "      <td>0.0</td>\n",
       "      <td>0.0</td>\n",
       "    </tr>\n",
       "  </tbody>\n",
       "</table>\n",
       "<p>5 rows × 3840 columns</p>\n",
       "</div>"
      ],
      "text/plain": [
       "                                                   review  is_bad_review  \\\n",
       "488440   Would have appreciated a shop in the hotel th...              0   \n",
       "274649        No tissue paper box was present at the room              0   \n",
       "374688                Pillows  Nice welcoming and service              0   \n",
       "404352   Everything including the nice upgrade The Hot...              0   \n",
       "451596                    Lovely hotel v welcoming staff               0   \n",
       "\n",
       "                                             review_clean    neg    neu  \\\n",
       "488440  would appreciate shop hotel sell drinking wate...  0.049  0.617   \n",
       "274649                      tissue paper box present room  0.216  0.784   \n",
       "374688                        pillow nice welcome service  0.000  0.345   \n",
       "404352  everything include nice upgrade hotel revamp s...  0.000  0.621   \n",
       "451596                         lovely hotel welcome staff  0.000  0.230   \n",
       "\n",
       "          pos  compound  nb_chars  nb_words  doc2vec_vector_0  ...  word_yet  \\\n",
       "488440  0.334    0.9924       599       113         -0.274166  ...       0.0   \n",
       "274649  0.000   -0.2960        44        10         -0.055639  ...       0.0   \n",
       "374688  0.655    0.6908        36         7          0.103955  ...       0.0   \n",
       "404352  0.379    0.9153       155        27          0.092149  ...       0.0   \n",
       "451596  0.770    0.7717        32         7         -0.038247  ...       0.0   \n",
       "\n",
       "        word_yoghurt  word_yogurt  word_young  word_yr  word_yummy  word_zero  \\\n",
       "488440           0.0          0.0         0.0      0.0         0.0        0.0   \n",
       "274649           0.0          0.0         0.0      0.0         0.0        0.0   \n",
       "374688           0.0          0.0         0.0      0.0         0.0        0.0   \n",
       "404352           0.0          0.0         0.0      0.0         0.0        0.0   \n",
       "451596           0.0          0.0         0.0      0.0         0.0        0.0   \n",
       "\n",
       "        word_ziggo  word_zone  word_zuid  \n",
       "488440         0.0        0.0        0.0  \n",
       "274649         0.0        0.0        0.0  \n",
       "374688         0.0        0.0        0.0  \n",
       "404352         0.0        0.0        0.0  \n",
       "451596         0.0        0.0        0.0  \n",
       "\n",
       "[5 rows x 3840 columns]"
      ]
     },
     "execution_count": 24,
     "metadata": {},
     "output_type": "execute_result"
    }
   ],
   "source": [
    "reviews_df.head()"
   ]
  },
  {
   "cell_type": "code",
   "execution_count": 25,
   "id": "b1c93b6f-f6a1-4400-8f7d-9325312b1c97",
   "metadata": {
    "tags": []
   },
   "outputs": [
    {
     "data": {
      "text/plain": [
       "(51574, 3840)"
      ]
     },
     "execution_count": 25,
     "metadata": {},
     "output_type": "execute_result"
    }
   ],
   "source": [
    "reviews_df.shape"
   ]
  },
  {
   "cell_type": "markdown",
   "id": "1bd3c39c-b3cd-4a1b-8adb-87624d54581d",
   "metadata": {},
   "source": [
    "## Exploratory data analysis\n",
    "In order to have a better understanding of our data, let's explore it a little:"
   ]
  },
  {
   "cell_type": "code",
   "execution_count": 27,
   "id": "93262223-406f-4e2e-9977-2844ccff1b53",
   "metadata": {
    "tags": []
   },
   "outputs": [
    {
     "data": {
      "text/plain": [
       "0    0.956761\n",
       "1    0.043239\n",
       "Name: is_bad_review, dtype: float64"
      ]
     },
     "execution_count": 27,
     "metadata": {},
     "output_type": "execute_result"
    }
   ],
   "source": [
    "# show is_bad_review distribution\n",
    "reviews_df[\"is_bad_review\"].value_counts(normalize = True)"
   ]
  },
  {
   "cell_type": "markdown",
   "id": "c307794a-6c5f-412d-a52b-e1e633d1cef9",
   "metadata": {},
   "source": [
    "Our dataset is highly imbalanced because less than 5% of our reviews are considered negative ones. This information will be very useful for the modeling part.\n",
    "#### Now let's print some word clouds to have a glimpse at what kind of words appear in our reviews:"
   ]
  },
  {
   "cell_type": "code",
   "execution_count": 30,
   "id": "ee4c252c-e08a-4af8-b70d-432520f6b51b",
   "metadata": {
    "tags": []
   },
   "outputs": [
    {
     "name": "stdout",
     "output_type": "stream",
     "text": [
      "Collecting wordcloud\n",
      "  Downloading wordcloud-1.8.2.2-cp37-cp37m-manylinux_2_17_x86_64.manylinux2014_x86_64.whl (435 kB)\n",
      "\u001b[2K     \u001b[90m━━━━━━━━━━━━━━━━━━━━━━━━━━━━━━━━━━━━━━━\u001b[0m \u001b[32m435.2/435.2 kB\u001b[0m \u001b[31m7.6 MB/s\u001b[0m eta \u001b[36m0:00:00\u001b[0m00:01\u001b[0m\n",
      "\u001b[?25hRequirement already satisfied: numpy>=1.6.1 in /opt/conda/lib/python3.7/site-packages (from wordcloud) (1.21.6)\n",
      "Requirement already satisfied: pillow in /opt/conda/lib/python3.7/site-packages (from wordcloud) (9.4.0)\n",
      "Requirement already satisfied: matplotlib in /opt/conda/lib/python3.7/site-packages (from wordcloud) (3.1.3)\n",
      "Requirement already satisfied: cycler>=0.10 in /opt/conda/lib/python3.7/site-packages (from matplotlib->wordcloud) (0.10.0)\n",
      "Requirement already satisfied: kiwisolver>=1.0.1 in /opt/conda/lib/python3.7/site-packages (from matplotlib->wordcloud) (1.1.0)\n",
      "Requirement already satisfied: pyparsing!=2.0.4,!=2.1.2,!=2.1.6,>=2.0.1 in /opt/conda/lib/python3.7/site-packages (from matplotlib->wordcloud) (2.4.6)\n",
      "Requirement already satisfied: python-dateutil>=2.1 in /opt/conda/lib/python3.7/site-packages (from matplotlib->wordcloud) (2.8.2)\n",
      "Requirement already satisfied: six in /opt/conda/lib/python3.7/site-packages (from cycler>=0.10->matplotlib->wordcloud) (1.14.0)\n",
      "Requirement already satisfied: setuptools in /opt/conda/lib/python3.7/site-packages (from kiwisolver>=1.0.1->matplotlib->wordcloud) (59.3.0)\n",
      "Installing collected packages: wordcloud\n",
      "Successfully installed wordcloud-1.8.2.2\n",
      "\u001b[33mWARNING: Running pip as the 'root' user can result in broken permissions and conflicting behaviour with the system package manager. It is recommended to use a virtual environment instead: https://pip.pypa.io/warnings/venv\u001b[0m\u001b[33m\n",
      "\u001b[0m\n",
      "\u001b[1m[\u001b[0m\u001b[34;49mnotice\u001b[0m\u001b[1;39;49m]\u001b[0m\u001b[39;49m A new release of pip is available: \u001b[0m\u001b[31;49m23.0\u001b[0m\u001b[39;49m -> \u001b[0m\u001b[32;49m23.0.1\u001b[0m\n",
      "\u001b[1m[\u001b[0m\u001b[34;49mnotice\u001b[0m\u001b[1;39;49m]\u001b[0m\u001b[39;49m To update, run: \u001b[0m\u001b[32;49mpip install --upgrade pip\u001b[0m\n"
     ]
    },
    {
     "data": {
      "image/png": "[encoded data removed]",
      "text/plain": [
       "<Figure size 2000x2000 with 1 Axes>"
      ]
     },
     "metadata": {},
     "output_type": "display_data"
    }
   ],
   "source": [
    "# wordcloud function\n",
    "!pip3 install wordcloud\n",
    "\n",
    "from wordcloud import WordCloud\n",
    "import matplotlib.pyplot as plt\n",
    "\n",
    "def show_wordcloud(data, title = None):\n",
    "    wordcloud = WordCloud(\n",
    "        background_color = 'white',\n",
    "        max_words = 200,\n",
    "        max_font_size = 40, \n",
    "        scale = 3,\n",
    "        random_state = 42\n",
    "    ).generate(str(data))\n",
    "\n",
    "    fig = plt.figure(1, figsize = (20, 20))\n",
    "    plt.axis('off')\n",
    "    if title: \n",
    "        fig.suptitle(title, fontsize = 20)\n",
    "        fig.subplots_adjust(top = 2.3)\n",
    "\n",
    "    plt.imshow(wordcloud)\n",
    "    plt.show()\n",
    "    \n",
    "# print wordcloud\n",
    "show_wordcloud(reviews_df[\"review\"])"
   ]
  },
  {
   "cell_type": "markdown",
   "id": "8d700e53-ba98-4671-8ee9-1a6dcd03c158",
   "metadata": {},
   "source": [
    "Most of the words are indeed related to the hotels: room, staff, breakfast, etc.\n",
    "\n",
    "Some words are more related to the customer experience with the hotel stay: perfect, loved, expensive, dislike, etc."
   ]
  },
  {
   "cell_type": "markdown",
   "id": "e6a76793-0394-4fe2-8947-409a06e0e6f6",
   "metadata": {
    "tags": []
   },
   "source": [
    "#### Highest positive sentiment reviews (with more than 5 words)"
   ]
  },
  {
   "cell_type": "code",
   "execution_count": 32,
   "id": "cda7c5c0-101c-4f7e-a07f-753ac7c99407",
   "metadata": {
    "tags": []
   },
   "outputs": [
    {
     "data": {
      "text/html": [
       "<div>\n",
       "<style scoped>\n",
       "    .dataframe tbody tr th:only-of-type {\n",
       "        vertical-align: middle;\n",
       "    }\n",
       "\n",
       "    .dataframe tbody tr th {\n",
       "        vertical-align: top;\n",
       "    }\n",
       "\n",
       "    .dataframe thead th {\n",
       "        text-align: right;\n",
       "    }\n",
       "</style>\n",
       "<table border=\"1\" class=\"dataframe\">\n",
       "  <thead>\n",
       "    <tr style=\"text-align: right;\">\n",
       "      <th></th>\n",
       "      <th>review</th>\n",
       "      <th>pos</th>\n",
       "    </tr>\n",
       "  </thead>\n",
       "  <tbody>\n",
       "    <tr>\n",
       "      <th>43101</th>\n",
       "      <td>A perfect location comfortable great value</td>\n",
       "      <td>0.931</td>\n",
       "    </tr>\n",
       "    <tr>\n",
       "      <th>211742</th>\n",
       "      <td>Clean comfortable lovely staff</td>\n",
       "      <td>0.907</td>\n",
       "    </tr>\n",
       "    <tr>\n",
       "      <th>175551</th>\n",
       "      <td>Friendly welcome Comfortable room</td>\n",
       "      <td>0.905</td>\n",
       "    </tr>\n",
       "    <tr>\n",
       "      <th>365085</th>\n",
       "      <td>Good location great value</td>\n",
       "      <td>0.904</td>\n",
       "    </tr>\n",
       "    <tr>\n",
       "      <th>109564</th>\n",
       "      <td>Clean friendly and comfortable</td>\n",
       "      <td>0.902</td>\n",
       "    </tr>\n",
       "    <tr>\n",
       "      <th>145743</th>\n",
       "      <td>Good value amazing location</td>\n",
       "      <td>0.901</td>\n",
       "    </tr>\n",
       "    <tr>\n",
       "      <th>407590</th>\n",
       "      <td>breakfast excellent Clean comfort</td>\n",
       "      <td>0.899</td>\n",
       "    </tr>\n",
       "    <tr>\n",
       "      <th>407546</th>\n",
       "      <td>Great place I enjoyed</td>\n",
       "      <td>0.881</td>\n",
       "    </tr>\n",
       "    <tr>\n",
       "      <th>218571</th>\n",
       "      <td>Beautiful Quirky Comfortable</td>\n",
       "      <td>0.878</td>\n",
       "    </tr>\n",
       "    <tr>\n",
       "      <th>436901</th>\n",
       "      <td>Lovely comfortable rooms</td>\n",
       "      <td>0.877</td>\n",
       "    </tr>\n",
       "  </tbody>\n",
       "</table>\n",
       "</div>"
      ],
      "text/plain": [
       "                                             review    pos\n",
       "43101    A perfect location comfortable great value  0.931\n",
       "211742               Clean comfortable lovely staff  0.907\n",
       "175551            Friendly welcome Comfortable room  0.905\n",
       "365085                    Good location great value  0.904\n",
       "109564               Clean friendly and comfortable  0.902\n",
       "145743                  Good value amazing location  0.901\n",
       "407590            breakfast excellent Clean comfort  0.899\n",
       "407546                       Great place I enjoyed   0.881\n",
       "218571                Beautiful Quirky Comfortable   0.878\n",
       "436901                    Lovely comfortable rooms   0.877"
      ]
     },
     "execution_count": 32,
     "metadata": {},
     "output_type": "execute_result"
    }
   ],
   "source": [
    "reviews_df[reviews_df[\"nb_words\"] >= 5].sort_values(\"pos\", ascending = False)[[\"review\", \"pos\"]].head(10)"
   ]
  },
  {
   "cell_type": "markdown",
   "id": "79be4bcc-df50-4b75-a3a1-ec9400a92ade",
   "metadata": {},
   "source": [
    "The most positive reviews indeed correspond to some good feedbacks."
   ]
  },
  {
   "cell_type": "markdown",
   "id": "03df6c51-02fe-463f-9612-052cdffece9a",
   "metadata": {},
   "source": [
    "#### Lowest negative sentiment reviews (with more than 5 words)"
   ]
  },
  {
   "cell_type": "code",
   "execution_count": 33,
   "id": "df5878a2-3b66-42a3-bb43-9f80ca906990",
   "metadata": {
    "tags": []
   },
   "outputs": [
    {
     "data": {
      "text/html": [
       "<div>\n",
       "<style scoped>\n",
       "    .dataframe tbody tr th:only-of-type {\n",
       "        vertical-align: middle;\n",
       "    }\n",
       "\n",
       "    .dataframe tbody tr th {\n",
       "        vertical-align: top;\n",
       "    }\n",
       "\n",
       "    .dataframe thead th {\n",
       "        text-align: right;\n",
       "    }\n",
       "</style>\n",
       "<table border=\"1\" class=\"dataframe\">\n",
       "  <thead>\n",
       "    <tr style=\"text-align: right;\">\n",
       "      <th></th>\n",
       "      <th>review</th>\n",
       "      <th>neg</th>\n",
       "    </tr>\n",
       "  </thead>\n",
       "  <tbody>\n",
       "    <tr>\n",
       "      <th>193086</th>\n",
       "      <td>No dislikes LOCATION</td>\n",
       "      <td>0.831</td>\n",
       "    </tr>\n",
       "    <tr>\n",
       "      <th>356368</th>\n",
       "      <td>Nothing  Great helpful wonderful staff</td>\n",
       "      <td>0.812</td>\n",
       "    </tr>\n",
       "    <tr>\n",
       "      <th>318516</th>\n",
       "      <td>A disaster  Nothing</td>\n",
       "      <td>0.804</td>\n",
       "    </tr>\n",
       "    <tr>\n",
       "      <th>458794</th>\n",
       "      <td>Nothing Excellent friendly helpful staff</td>\n",
       "      <td>0.799</td>\n",
       "    </tr>\n",
       "    <tr>\n",
       "      <th>29666</th>\n",
       "      <td>A bit noisy No</td>\n",
       "      <td>0.796</td>\n",
       "    </tr>\n",
       "    <tr>\n",
       "      <th>426057</th>\n",
       "      <td>Dirty hotel Smells bad</td>\n",
       "      <td>0.762</td>\n",
       "    </tr>\n",
       "    <tr>\n",
       "      <th>263187</th>\n",
       "      <td>Very bad service No</td>\n",
       "      <td>0.758</td>\n",
       "    </tr>\n",
       "    <tr>\n",
       "      <th>443796</th>\n",
       "      <td>Nothing  perfect</td>\n",
       "      <td>0.750</td>\n",
       "    </tr>\n",
       "    <tr>\n",
       "      <th>181508</th>\n",
       "      <td>Window blind was broken</td>\n",
       "      <td>0.744</td>\n",
       "    </tr>\n",
       "    <tr>\n",
       "      <th>175316</th>\n",
       "      <td>Nothing Super friendly staff</td>\n",
       "      <td>0.743</td>\n",
       "    </tr>\n",
       "  </tbody>\n",
       "</table>\n",
       "</div>"
      ],
      "text/plain": [
       "                                           review    neg\n",
       "193086                      No dislikes LOCATION   0.831\n",
       "356368    Nothing  Great helpful wonderful staff   0.812\n",
       "318516                        A disaster  Nothing  0.804\n",
       "458794   Nothing Excellent friendly helpful staff  0.799\n",
       "29666                              A bit noisy No  0.796\n",
       "426057                     Dirty hotel Smells bad  0.762\n",
       "263187                        Very bad service No  0.758\n",
       "443796                          Nothing  perfect   0.750\n",
       "181508                    Window blind was broken  0.744\n",
       "175316               Nothing Super friendly staff  0.743"
      ]
     },
     "execution_count": 33,
     "metadata": {},
     "output_type": "execute_result"
    }
   ],
   "source": [
    "reviews_df[reviews_df[\"nb_words\"] >= 5].sort_values(\"neg\", ascending = False)[[\"review\", \"neg\"]].head(10)"
   ]
  },
  {
   "cell_type": "markdown",
   "id": "88056d0e-1778-41fc-88e3-0bc8ecc4e97a",
   "metadata": {},
   "source": [
    "Some errors can be found among the most negative reviews: Vader sometimes interprets 'no' or 'nothing' as negative words whereas they are sometimes used to say that there were no problems with the hotel.\n",
    "\n",
    "Fortunately, most of the reviews are indeed bad ones."
   ]
  },
  {
   "cell_type": "markdown",
   "id": "008a9191-c146-4769-8864-6d4a5cf1301b",
   "metadata": {},
   "source": [
    "#### Plot sentiment distribution for positive and negative reviews"
   ]
  },
  {
   "cell_type": "code",
   "execution_count": 37,
   "id": "60b27fce-ff4b-4395-93f1-104e9a7aadce",
   "metadata": {
    "tags": []
   },
   "outputs": [
    {
     "data": {
      "image/png": "[encoded data removed]",
      "text/plain": [
       "<Figure size 640x480 with 1 Axes>"
      ]
     },
     "metadata": {},
     "output_type": "display_data"
    }
   ],
   "source": [
    "import seaborn as sns\n",
    "import matplotlib.pyplot as plt\n",
    "\n",
    "\n",
    "for x in [0, 1]:\n",
    "    subset = reviews_df[reviews_df['is_bad_review'] == x]\n",
    "    \n",
    "    # Draw the density plot\n",
    "    if x == 0:\n",
    "        label = \"Good reviews\"\n",
    "    else:\n",
    "        label = \"Bad reviews\"\n",
    "    sns.distplot(subset['compound'], hist = False, label = label)\n",
    "    #sns.displot(subset['compound'], label = label, kind=\"kde\")\n",
    "    #sns.histplot(subset['compound'], label = label, kde=True)\n",
    "\n",
    "plt.show()"
   ]
  },
  {
   "cell_type": "markdown",
   "id": "10e3527f-1f56-46bb-b77e-ee8d62e0403a",
   "metadata": {},
   "source": [
    "The above graph shows the distribution of the reviews sentiments among good reviews and bad ones. We can see that good reviews are for most of them considered very positive by Vader. On the contrary, bad reviews tend to have lower compound sentiment scores.\n",
    "\n",
    "This shows us that previously computed sentiment features will be very important in our modeling part."
   ]
  },
  {
   "cell_type": "markdown",
   "id": "5d050c14-5f2e-412f-a82d-6463bb0ebc9e",
   "metadata": {},
   "source": [
    "### Modeling Reviewer Score"
   ]
  },
  {
   "cell_type": "code",
   "execution_count": 38,
   "id": "a412b21e-54a7-4c5e-bf3e-101102471180",
   "metadata": {
    "tags": []
   },
   "outputs": [],
   "source": [
    "# feature selection\n",
    "label = \"is_bad_review\"\n",
    "ignore_cols = [label, \"review\", \"review_clean\"]\n",
    "features = [c for c in reviews_df.columns if c not in ignore_cols]\n",
    "\n",
    "# split the data into train and test\n",
    "from sklearn.ensemble import RandomForestClassifier\n",
    "from sklearn.model_selection import train_test_split\n",
    "\n",
    "X_train, X_test, y_train, y_test = train_test_split(reviews_df[features], reviews_df[label], test_size = 0.20, random_state = 42)"
   ]
  },
  {
   "cell_type": "markdown",
   "id": "66af7e9f-ec16-497f-8d90-71933944d4a7",
   "metadata": {},
   "source": [
    "We first choose which features we want to use to train our model. Then we split our data into two parts:\n",
    "\n",
    "one to train our model\n",
    "\n",
    "one to assess its performances\n",
    "\n",
    "We will next use a Random Forest (RF) classifier for our predictions."
   ]
  },
  {
   "cell_type": "code",
   "execution_count": 39,
   "id": "a44a21f0-530f-4b93-a7da-2b3d8ae04987",
   "metadata": {
    "tags": []
   },
   "outputs": [
    {
     "data": {
      "text/html": [
       "<div>\n",
       "<style scoped>\n",
       "    .dataframe tbody tr th:only-of-type {\n",
       "        vertical-align: middle;\n",
       "    }\n",
       "\n",
       "    .dataframe tbody tr th {\n",
       "        vertical-align: top;\n",
       "    }\n",
       "\n",
       "    .dataframe thead th {\n",
       "        text-align: right;\n",
       "    }\n",
       "</style>\n",
       "<table border=\"1\" class=\"dataframe\">\n",
       "  <thead>\n",
       "    <tr style=\"text-align: right;\">\n",
       "      <th></th>\n",
       "      <th>feature</th>\n",
       "      <th>importance</th>\n",
       "    </tr>\n",
       "  </thead>\n",
       "  <tbody>\n",
       "    <tr>\n",
       "      <th>3</th>\n",
       "      <td>compound</td>\n",
       "      <td>0.035391</td>\n",
       "    </tr>\n",
       "    <tr>\n",
       "      <th>2</th>\n",
       "      <td>pos</td>\n",
       "      <td>0.025827</td>\n",
       "    </tr>\n",
       "    <tr>\n",
       "      <th>0</th>\n",
       "      <td>neg</td>\n",
       "      <td>0.022773</td>\n",
       "    </tr>\n",
       "    <tr>\n",
       "      <th>6</th>\n",
       "      <td>doc2vec_vector_0</td>\n",
       "      <td>0.022605</td>\n",
       "    </tr>\n",
       "    <tr>\n",
       "      <th>8</th>\n",
       "      <td>doc2vec_vector_2</td>\n",
       "      <td>0.020161</td>\n",
       "    </tr>\n",
       "    <tr>\n",
       "      <th>10</th>\n",
       "      <td>doc2vec_vector_4</td>\n",
       "      <td>0.017955</td>\n",
       "    </tr>\n",
       "    <tr>\n",
       "      <th>7</th>\n",
       "      <td>doc2vec_vector_1</td>\n",
       "      <td>0.017257</td>\n",
       "    </tr>\n",
       "    <tr>\n",
       "      <th>9</th>\n",
       "      <td>doc2vec_vector_3</td>\n",
       "      <td>0.016977</td>\n",
       "    </tr>\n",
       "    <tr>\n",
       "      <th>4</th>\n",
       "      <td>nb_chars</td>\n",
       "      <td>0.016799</td>\n",
       "    </tr>\n",
       "    <tr>\n",
       "      <th>1</th>\n",
       "      <td>neu</td>\n",
       "      <td>0.015272</td>\n",
       "    </tr>\n",
       "    <tr>\n",
       "      <th>5</th>\n",
       "      <td>nb_words</td>\n",
       "      <td>0.013622</td>\n",
       "    </tr>\n",
       "    <tr>\n",
       "      <th>2853</th>\n",
       "      <td>word_room</td>\n",
       "      <td>0.009724</td>\n",
       "    </tr>\n",
       "    <tr>\n",
       "      <th>285</th>\n",
       "      <td>word_bad</td>\n",
       "      <td>0.009561</td>\n",
       "    </tr>\n",
       "    <tr>\n",
       "      <th>950</th>\n",
       "      <td>word_dirty</td>\n",
       "      <td>0.009557</td>\n",
       "    </tr>\n",
       "    <tr>\n",
       "      <th>2239</th>\n",
       "      <td>word_nothing</td>\n",
       "      <td>0.009402</td>\n",
       "    </tr>\n",
       "    <tr>\n",
       "      <th>1945</th>\n",
       "      <td>word_location</td>\n",
       "      <td>0.006817</td>\n",
       "    </tr>\n",
       "    <tr>\n",
       "      <th>3216</th>\n",
       "      <td>word_star</td>\n",
       "      <td>0.006675</td>\n",
       "    </tr>\n",
       "    <tr>\n",
       "      <th>3202</th>\n",
       "      <td>word_staff</td>\n",
       "      <td>0.006560</td>\n",
       "    </tr>\n",
       "    <tr>\n",
       "      <th>2284</th>\n",
       "      <td>word_old</td>\n",
       "      <td>0.006166</td>\n",
       "    </tr>\n",
       "    <tr>\n",
       "      <th>1639</th>\n",
       "      <td>word_hotel</td>\n",
       "      <td>0.006146</td>\n",
       "    </tr>\n",
       "  </tbody>\n",
       "</table>\n",
       "</div>"
      ],
      "text/plain": [
       "               feature  importance\n",
       "3             compound    0.035391\n",
       "2                  pos    0.025827\n",
       "0                  neg    0.022773\n",
       "6     doc2vec_vector_0    0.022605\n",
       "8     doc2vec_vector_2    0.020161\n",
       "10    doc2vec_vector_4    0.017955\n",
       "7     doc2vec_vector_1    0.017257\n",
       "9     doc2vec_vector_3    0.016977\n",
       "4             nb_chars    0.016799\n",
       "1                  neu    0.015272\n",
       "5             nb_words    0.013622\n",
       "2853         word_room    0.009724\n",
       "285           word_bad    0.009561\n",
       "950         word_dirty    0.009557\n",
       "2239      word_nothing    0.009402\n",
       "1945     word_location    0.006817\n",
       "3216         word_star    0.006675\n",
       "3202        word_staff    0.006560\n",
       "2284          word_old    0.006166\n",
       "1639        word_hotel    0.006146"
      ]
     },
     "execution_count": 39,
     "metadata": {},
     "output_type": "execute_result"
    }
   ],
   "source": [
    "# train a random forest classifier\n",
    "rf = RandomForestClassifier(n_estimators = 100, random_state = 42)\n",
    "rf.fit(X_train, y_train)\n",
    "\n",
    "# show feature importance\n",
    "feature_importances_df = pd.DataFrame({\"feature\": features, \"importance\": rf.feature_importances_}).sort_values(\"importance\", ascending = False)\n",
    "feature_importances_df.head(20)"
   ]
  },
  {
   "cell_type": "markdown",
   "id": "4f251cb5-af66-4efb-94b5-1ac27c2cf312",
   "metadata": {},
   "source": [
    "The most important features are indeed the ones that come from the previous sentiment analysis.\n",
    "\n",
    "The vector representations of the texts also have a lot of importance in our training.\n",
    "\n",
    "Some words appear to have fairly good importance as well."
   ]
  },
  {
   "cell_type": "markdown",
   "id": "b4428ac0-d64e-4216-b8f2-a1cea8657b41",
   "metadata": {},
   "source": [
    "## ROC curve"
   ]
  },
  {
   "cell_type": "code",
   "execution_count": 40,
   "id": "248323f4-82eb-4d42-a8ea-9725ec35a007",
   "metadata": {
    "tags": []
   },
   "outputs": [
    {
     "data": {
      "image/png": "[encoded data removed]",
      "text/plain": [
       "<Figure size 1500x1000 with 1 Axes>"
      ]
     },
     "metadata": {},
     "output_type": "display_data"
    }
   ],
   "source": [
    "from sklearn.metrics import roc_curve, auc, roc_auc_score\n",
    "import matplotlib.pyplot as plt\n",
    "\n",
    "y_pred = [x[1] for x in rf.predict_proba(X_test)]\n",
    "fpr, tpr, thresholds = roc_curve(y_test, y_pred, pos_label = 1)\n",
    "\n",
    "roc_auc = auc(fpr, tpr)\n",
    "\n",
    "plt.figure(1, figsize = (15, 10))\n",
    "lw = 2\n",
    "plt.plot(fpr, tpr, color='darkorange',\n",
    "         lw=lw, label='ROC curve (area = %0.2f)' % roc_auc)\n",
    "plt.plot([0, 1], [0, 1], lw=lw, linestyle='--')\n",
    "plt.xlim([0.0, 1.0])\n",
    "plt.ylim([0.0, 1.0])\n",
    "plt.xlabel('False Positive Rate')\n",
    "plt.ylabel('True Positive Rate')\n",
    "plt.title('Receiver operating characteristic example')\n",
    "plt.legend(loc=\"lower right\")\n",
    "plt.show()"
   ]
  },
  {
   "cell_type": "markdown",
   "id": "e800e6a7-fb7a-4253-ae56-fbd7b8a569b2",
   "metadata": {
    "tags": []
   },
   "source": [
    "The ROC (Receiver Operating Characteristic) curve is usually a good graph to summarize the quality of our classifier. The higher the curve is above the diagonal baseline, the better the predictions. Although the AUC ROC (Area Under the Curve ROC) is very good, we should not use here the ROC curve to assess the quality of our model.\n",
    "\n",
    "Because the False Positive Rate formula, which corresponds to the x-axis of the ROC curve: FPR (False Positive Rate) = # False Positives / # Negatives.\n",
    "\n",
    "Here the # Negatives corresponds to our number of good reviews which is very high because our dataset is imbalanced. This means that even with some False Positives, our FPR will tend to stay very low. Our model will be able to make a lot of false positive predictions and still have a low false positive rate while increasing the true positive rate and therefore artificially increasing the AUC ROC metric."
   ]
  },
  {
   "cell_type": "markdown",
   "id": "ecdc6000-f22b-4f0f-b468-aefd578e81ad",
   "metadata": {},
   "source": [
    "## PR(Precision-Recall) curve"
   ]
  },
  {
   "cell_type": "code",
   "execution_count": 43,
   "id": "0904b716-61cd-4368-ab2b-eeecf23d14be",
   "metadata": {
    "tags": []
   },
   "outputs": [
    {
     "name": "stdout",
     "output_type": "stream",
     "text": [
      "Requirement already satisfied: funcsigs in /opt/conda/lib/python3.7/site-packages (1.0.2)\n",
      "\u001b[33mWARNING: Running pip as the 'root' user can result in broken permissions and conflicting behaviour with the system package manager. It is recommended to use a virtual environment instead: https://pip.pypa.io/warnings/venv\u001b[0m\u001b[33m\n",
      "\u001b[0m\n",
      "\u001b[1m[\u001b[0m\u001b[34;49mnotice\u001b[0m\u001b[1;39;49m]\u001b[0m\u001b[39;49m A new release of pip is available: \u001b[0m\u001b[31;49m23.0\u001b[0m\u001b[39;49m -> \u001b[0m\u001b[32;49m23.0.1\u001b[0m\n",
      "\u001b[1m[\u001b[0m\u001b[34;49mnotice\u001b[0m\u001b[1;39;49m]\u001b[0m\u001b[39;49m To update, run: \u001b[0m\u001b[32;49mpip install --upgrade pip\u001b[0m\n"
     ]
    },
    {
     "data": {
      "image/png": "[encoded data removed]",
      "text/plain": [
       "<Figure size 1500x1000 with 1 Axes>"
      ]
     },
     "metadata": {},
     "output_type": "display_data"
    }
   ],
   "source": [
    "from sklearn.metrics import average_precision_score, precision_recall_curve\n",
    "#from sklearn.utils.fixes import signature\n",
    "!pip install funcsigs\n",
    "from funcsigs import signature\n",
    "\n",
    "average_precision = average_precision_score(y_test, y_pred)\n",
    "\n",
    "precision, recall, _ = precision_recall_curve(y_test, y_pred)\n",
    "\n",
    "# In matplotlib < 1.5, plt.fill_between does not have a 'step' argument\n",
    "step_kwargs = ({'step': 'post'}\n",
    "               if 'step' in signature(plt.fill_between).parameters\n",
    "               else {})\n",
    "\n",
    "plt.figure(1, figsize = (15, 10))\n",
    "plt.step(recall, precision, color='b', alpha=0.2,\n",
    "         where='post')\n",
    "plt.fill_between(recall, precision, alpha=0.2, color='b', **step_kwargs)\n",
    "\n",
    "plt.xlabel('Recall')\n",
    "plt.ylabel('Precision')\n",
    "plt.ylim([0.0, 1.05])\n",
    "plt.xlim([0.0, 1.0])\n",
    "plt.title('2-class Precision-Recall curve: AP={0:0.2f}'.format(average_precision))\n",
    "plt.show()"
   ]
  },
  {
   "cell_type": "markdown",
   "id": "f1187d23-763e-4229-91e7-072b0e0e1c66",
   "metadata": {},
   "source": [
    "A better metric in this imbalanced situation is the AUC PR (Area Under the Curve Precision Recall), also called AP (Average Precision).\n",
    "\n",
    "We can see that the precision decreases when we increase the recall. This shows us that we have to choose a prediction threshold adapted to our needs. If our goal is to have a high recall, we should set a low prediction threshold that will allow us to detect most of the observations of the positive class, but with low precision. On the contrary, if we want to be really confident about our predictions but don't mind about not finding all the positive observations, we should set a high threshold that will get us a high precision and a low recall.\n",
    "\n",
    "In order to know if our model performs better than another classifier, we can simply use the AP metric. To assess the quality of our model, we can compare it to a simple decision baseline. Let's take a random classifier as a baseline here that would predict half of the time 1 and half of the time 0 for the label.\n",
    "\n",
    "Such a classifier would have a precision of 4.3%, which corresponds to the proportion of positive observations. For every recall value, the precision would stay the same, and this would lead us to an AP of 0.043. The AP of our model is approximately 0.38, which is more than 8 times higher than the AP of the random method. This means that our model has good predictive power."
   ]
  },
  {
   "cell_type": "markdown",
   "id": "32a63840-6278-4ac2-a0a2-df9e9babbe67",
   "metadata": {},
   "source": [
    "## Conclusion"
   ]
  },
  {
   "cell_type": "markdown",
   "id": "2503090e-662a-4a65-b7f5-0ed2fd612bb3",
   "metadata": {},
   "source": [
    "It is completely possible to use only raw text as input for making predictions. The most important thing is to be able to extract the relevant features from this raw source of data. This kind of data can often come as a good complementary source in data science projects in order to extract more learning features and increase the predictive power of the models."
   ]
  }
 ],
 "metadata": {
  "availableInstances": [
   {
    "_defaultOrder": 0,
    "_isFastLaunch": true,
    "category": "General purpose",
    "gpuNum": 0,
    "memoryGiB": 4,
    "name": "ml.t3.medium",
    "vcpuNum": 2
   },
   {
    "_defaultOrder": 1,
    "_isFastLaunch": false,
    "category": "General purpose",
    "gpuNum": 0,
    "memoryGiB": 8,
    "name": "ml.t3.large",
    "vcpuNum": 2
   },
   {
    "_defaultOrder": 2,
    "_isFastLaunch": false,
    "category": "General purpose",
    "gpuNum": 0,
    "memoryGiB": 16,
    "name": "ml.t3.xlarge",
    "vcpuNum": 4
   },
   {
    "_defaultOrder": 3,
    "_isFastLaunch": false,
    "category": "General purpose",
    "gpuNum": 0,
    "memoryGiB": 32,
    "name": "ml.t3.2xlarge",
    "vcpuNum": 8
   },
   {
    "_defaultOrder": 4,
    "_isFastLaunch": true,
    "category": "General purpose",
    "gpuNum": 0,
    "memoryGiB": 8,
    "name": "ml.m5.large",
    "vcpuNum": 2
   },
   {
    "_defaultOrder": 5,
    "_isFastLaunch": false,
    "category": "General purpose",
    "gpuNum": 0,
    "memoryGiB": 16,
    "name": "ml.m5.xlarge",
    "vcpuNum": 4
   },
   {
    "_defaultOrder": 6,
    "_isFastLaunch": false,
    "category": "General purpose",
    "gpuNum": 0,
    "memoryGiB": 32,
    "name": "ml.m5.2xlarge",
    "vcpuNum": 8
   },
   {
    "_defaultOrder": 7,
    "_isFastLaunch": false,
    "category": "General purpose",
    "gpuNum": 0,
    "memoryGiB": 64,
    "name": "ml.m5.4xlarge",
    "vcpuNum": 16
   },
   {
    "_defaultOrder": 8,
    "_isFastLaunch": false,
    "category": "General purpose",
    "gpuNum": 0,
    "memoryGiB": 128,
    "name": "ml.m5.8xlarge",
    "vcpuNum": 32
   },
   {
    "_defaultOrder": 9,
    "_isFastLaunch": false,
    "category": "General purpose",
    "gpuNum": 0,
    "memoryGiB": 192,
    "name": "ml.m5.12xlarge",
    "vcpuNum": 48
   },
   {
    "_defaultOrder": 10,
    "_isFastLaunch": false,
    "category": "General purpose",
    "gpuNum": 0,
    "memoryGiB": 256,
    "name": "ml.m5.16xlarge",
    "vcpuNum": 64
   },
   {
    "_defaultOrder": 11,
    "_isFastLaunch": false,
    "category": "General purpose",
    "gpuNum": 0,
    "memoryGiB": 384,
    "name": "ml.m5.24xlarge",
    "vcpuNum": 96
   },
   {
    "_defaultOrder": 12,
    "_isFastLaunch": false,
    "category": "General purpose",
    "gpuNum": 0,
    "memoryGiB": 8,
    "name": "ml.m5d.large",
    "vcpuNum": 2
   },
   {
    "_defaultOrder": 13,
    "_isFastLaunch": false,
    "category": "General purpose",
    "gpuNum": 0,
    "memoryGiB": 16,
    "name": "ml.m5d.xlarge",
    "vcpuNum": 4
   },
   {
    "_defaultOrder": 14,
    "_isFastLaunch": false,
    "category": "General purpose",
    "gpuNum": 0,
    "memoryGiB": 32,
    "name": "ml.m5d.2xlarge",
    "vcpuNum": 8
   },
   {
    "_defaultOrder": 15,
    "_isFastLaunch": false,
    "category": "General purpose",
    "gpuNum": 0,
    "memoryGiB": 64,
    "name": "ml.m5d.4xlarge",
    "vcpuNum": 16
   },
   {
    "_defaultOrder": 16,
    "_isFastLaunch": false,
    "category": "General purpose",
    "gpuNum": 0,
    "memoryGiB": 128,
    "name": "ml.m5d.8xlarge",
    "vcpuNum": 32
   },
   {
    "_defaultOrder": 17,
    "_isFastLaunch": false,
    "category": "General purpose",
    "gpuNum": 0,
    "memoryGiB": 192,
    "name": "ml.m5d.12xlarge",
    "vcpuNum": 48
   },
   {
    "_defaultOrder": 18,
    "_isFastLaunch": false,
    "category": "General purpose",
    "gpuNum": 0,
    "memoryGiB": 256,
    "name": "ml.m5d.16xlarge",
    "vcpuNum": 64
   },
   {
    "_defaultOrder": 19,
    "_isFastLaunch": false,
    "category": "General purpose",
    "gpuNum": 0,
    "memoryGiB": 384,
    "name": "ml.m5d.24xlarge",
    "vcpuNum": 96
   },
   {
    "_defaultOrder": 20,
    "_isFastLaunch": true,
    "category": "Compute optimized",
    "gpuNum": 0,
    "memoryGiB": 4,
    "name": "ml.c5.large",
    "vcpuNum": 2
   },
   {
    "_defaultOrder": 21,
    "_isFastLaunch": false,
    "category": "Compute optimized",
    "gpuNum": 0,
    "memoryGiB": 8,
    "name": "ml.c5.xlarge",
    "vcpuNum": 4
   },
   {
    "_defaultOrder": 22,
    "_isFastLaunch": false,
    "category": "Compute optimized",
    "gpuNum": 0,
    "memoryGiB": 16,
    "name": "ml.c5.2xlarge",
    "vcpuNum": 8
   },
   {
    "_defaultOrder": 23,
    "_isFastLaunch": false,
    "category": "Compute optimized",
    "gpuNum": 0,
    "memoryGiB": 32,
    "name": "ml.c5.4xlarge",
    "vcpuNum": 16
   },
   {
    "_defaultOrder": 24,
    "_isFastLaunch": false,
    "category": "Compute optimized",
    "gpuNum": 0,
    "memoryGiB": 72,
    "name": "ml.c5.9xlarge",
    "vcpuNum": 36
   },
   {
    "_defaultOrder": 25,
    "_isFastLaunch": false,
    "category": "Compute optimized",
    "gpuNum": 0,
    "memoryGiB": 96,
    "name": "ml.c5.12xlarge",
    "vcpuNum": 48
   },
   {
    "_defaultOrder": 26,
    "_isFastLaunch": false,
    "category": "Compute optimized",
    "gpuNum": 0,
    "memoryGiB": 144,
    "name": "ml.c5.18xlarge",
    "vcpuNum": 72
   },
   {
    "_defaultOrder": 27,
    "_isFastLaunch": false,
    "category": "Compute optimized",
    "gpuNum": 0,
    "memoryGiB": 192,
    "name": "ml.c5.24xlarge",
    "vcpuNum": 96
   },
   {
    "_defaultOrder": 28,
    "_isFastLaunch": true,
    "category": "Accelerated computing",
    "gpuNum": 1,
    "memoryGiB": 16,
    "name": "ml.g4dn.xlarge",
    "vcpuNum": 4
   },
   {
    "_defaultOrder": 29,
    "_isFastLaunch": false,
    "category": "Accelerated computing",
    "gpuNum": 1,
    "memoryGiB": 32,
    "name": "ml.g4dn.2xlarge",
    "vcpuNum": 8
   },
   {
    "_defaultOrder": 30,
    "_isFastLaunch": false,
    "category": "Accelerated computing",
    "gpuNum": 1,
    "memoryGiB": 64,
    "name": "ml.g4dn.4xlarge",
    "vcpuNum": 16
   },
   {
    "_defaultOrder": 31,
    "_isFastLaunch": false,
    "category": "Accelerated computing",
    "gpuNum": 1,
    "memoryGiB": 128,
    "name": "ml.g4dn.8xlarge",
    "vcpuNum": 32
   },
   {
    "_defaultOrder": 32,
    "_isFastLaunch": false,
    "category": "Accelerated computing",
    "gpuNum": 4,
    "memoryGiB": 192,
    "name": "ml.g4dn.12xlarge",
    "vcpuNum": 48
   },
   {
    "_defaultOrder": 33,
    "_isFastLaunch": false,
    "category": "Accelerated computing",
    "gpuNum": 1,
    "memoryGiB": 256,
    "name": "ml.g4dn.16xlarge",
    "vcpuNum": 64
   },
   {
    "_defaultOrder": 34,
    "_isFastLaunch": false,
    "category": "Accelerated computing",
    "gpuNum": 1,
    "memoryGiB": 61,
    "name": "ml.p3.2xlarge",
    "vcpuNum": 8
   },
   {
    "_defaultOrder": 35,
    "_isFastLaunch": false,
    "category": "Accelerated computing",
    "gpuNum": 4,
    "memoryGiB": 244,
    "name": "ml.p3.8xlarge",
    "vcpuNum": 32
   },
   {
    "_defaultOrder": 36,
    "_isFastLaunch": false,
    "category": "Accelerated computing",
    "gpuNum": 8,
    "memoryGiB": 488,
    "name": "ml.p3.16xlarge",
    "vcpuNum": 64
   },
   {
    "_defaultOrder": 37,
    "_isFastLaunch": false,
    "category": "Accelerated computing",
    "gpuNum": 8,
    "memoryGiB": 768,
    "name": "ml.p3dn.24xlarge",
    "vcpuNum": 96
   },
   {
    "_defaultOrder": 38,
    "_isFastLaunch": false,
    "category": "Memory Optimized",
    "gpuNum": 0,
    "memoryGiB": 16,
    "name": "ml.r5.large",
    "vcpuNum": 2
   },
   {
    "_defaultOrder": 39,
    "_isFastLaunch": false,
    "category": "Memory Optimized",
    "gpuNum": 0,
    "memoryGiB": 32,
    "name": "ml.r5.xlarge",
    "vcpuNum": 4
   },
   {
    "_defaultOrder": 40,
    "_isFastLaunch": false,
    "category": "Memory Optimized",
    "gpuNum": 0,
    "memoryGiB": 64,
    "name": "ml.r5.2xlarge",
    "vcpuNum": 8
   },
   {
    "_defaultOrder": 41,
    "_isFastLaunch": false,
    "category": "Memory Optimized",
    "gpuNum": 0,
    "memoryGiB": 128,
    "name": "ml.r5.4xlarge",
    "vcpuNum": 16
   },
   {
    "_defaultOrder": 42,
    "_isFastLaunch": false,
    "category": "Memory Optimized",
    "gpuNum": 0,
    "memoryGiB": 256,
    "name": "ml.r5.8xlarge",
    "vcpuNum": 32
   },
   {
    "_defaultOrder": 43,
    "_isFastLaunch": false,
    "category": "Memory Optimized",
    "gpuNum": 0,
    "memoryGiB": 384,
    "name": "ml.r5.12xlarge",
    "vcpuNum": 48
   },
   {
    "_defaultOrder": 44,
    "_isFastLaunch": false,
    "category": "Memory Optimized",
    "gpuNum": 0,
    "memoryGiB": 512,
    "name": "ml.r5.16xlarge",
    "vcpuNum": 64
   },
   {
    "_defaultOrder": 45,
    "_isFastLaunch": false,
    "category": "Memory Optimized",
    "gpuNum": 0,
    "memoryGiB": 768,
    "name": "ml.r5.24xlarge",
    "vcpuNum": 96
   },
   {
    "_defaultOrder": 46,
    "_isFastLaunch": false,
    "category": "Accelerated computing",
    "gpuNum": 1,
    "memoryGiB": 16,
    "name": "ml.g5.xlarge",
    "vcpuNum": 4
   },
   {
    "_defaultOrder": 47,
    "_isFastLaunch": false,
    "category": "Accelerated computing",
    "gpuNum": 1,
    "memoryGiB": 32,
    "name": "ml.g5.2xlarge",
    "vcpuNum": 8
   },
   {
    "_defaultOrder": 48,
    "_isFastLaunch": false,
    "category": "Accelerated computing",
    "gpuNum": 1,
    "memoryGiB": 64,
    "name": "ml.g5.4xlarge",
    "vcpuNum": 16
   },
   {
    "_defaultOrder": 49,
    "_isFastLaunch": false,
    "category": "Accelerated computing",
    "gpuNum": 1,
    "memoryGiB": 128,
    "name": "ml.g5.8xlarge",
    "vcpuNum": 32
   },
   {
    "_defaultOrder": 50,
    "_isFastLaunch": false,
    "category": "Accelerated computing",
    "gpuNum": 1,
    "memoryGiB": 256,
    "name": "ml.g5.16xlarge",
    "vcpuNum": 64
   },
   {
    "_defaultOrder": 51,
    "_isFastLaunch": false,
    "category": "Accelerated computing",
    "gpuNum": 4,
    "memoryGiB": 192,
    "name": "ml.g5.12xlarge",
    "vcpuNum": 48
   },
   {
    "_defaultOrder": 52,
    "_isFastLaunch": false,
    "category": "Accelerated computing",
    "gpuNum": 4,
    "memoryGiB": 384,
    "name": "ml.g5.24xlarge",
    "vcpuNum": 96
   },
   {
    "_defaultOrder": 53,
    "_isFastLaunch": false,
    "category": "Accelerated computing",
    "gpuNum": 8,
    "memoryGiB": 768,
    "name": "ml.g5.48xlarge",
    "vcpuNum": 192
   }
  ],
  "instance_type": "ml.g4dn.xlarge",
  "kernelspec": {
   "display_name": "Python 3 (Data Science)",
   "language": "python",
   "name": "python3__SAGEMAKER_INTERNAL__arn:aws:sagemaker:ap-southeast-1:492261229750:image/datascience-1.0"
  },
  "language_info": {
   "codemirror_mode": {
    "name": "ipython",
    "version": 3
   },
   "file_extension": ".py",
   "mimetype": "text/x-python",
   "name": "python",
   "nbconvert_exporter": "python",
   "pygments_lexer": "ipython3",
   "version": "3.7.10"
  }
 },
 "nbformat": 4,
 "nbformat_minor": 5
}
